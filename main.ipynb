{
 "nbformat": 4,
 "nbformat_minor": 2,
 "metadata": {
  "language_info": {
   "name": "python",
   "codemirror_mode": {
    "name": "ipython",
    "version": 3
   },
   "version": "3.6.9-final"
  },
  "orig_nbformat": 2,
  "file_extension": ".py",
  "mimetype": "text/x-python",
  "name": "python",
  "npconvert_exporter": "python",
  "pygments_lexer": "ipython3",
  "version": 3,
  "kernelspec": {
   "name": "python36964bit393d81eb15b54b0093ea31921d80c86d",
   "display_name": "Python 3.6.9 64-bit"
  }
 },
 "cells": [
  {
   "cell_type": "markdown",
   "execution_count": null,
   "metadata": {},
   "outputs": [],
   "source": [
    "## Búsqueda de ubicación óptima para instalaciones"
   ]
  },
  {
   "cell_type": "markdown",
   "execution_count": null,
   "metadata": {},
   "outputs": [],
   "source": [
    "### Importación de librerías y módulos"
   ]
  },
  {
   "cell_type": "code",
   "execution_count": 31,
   "metadata": {},
   "outputs": [],
   "source": [
    "from pymongo import MongoClient\n",
    "from src.coordenadas import *\n",
    "from src.cleaning import *\n",
    "from src.airports import *\n",
    "from src.representation import *\n",
    "from src.init_tokens import *\n",
    "from src.distanceCalc import *\n",
    "from src.reverseGeocoding import *\n",
    "import random\n",
    "import pandas as pd\n",
    "\n",
    "import geopandas as gpd\n",
    "from cartoframes.viz import Map, Layer\n",
    "from cartoframes.viz.helpers import size_continuous_layer\n",
    "from cartoframes.viz.widgets import histogram_widget"
   ]
  },
  {
   "cell_type": "markdown",
   "execution_count": null,
   "metadata": {},
   "outputs": [],
   "source": [
    "### Necesidades"
   ]
  },
  {
   "cell_type": "markdown",
   "execution_count": null,
   "metadata": {},
   "outputs": [],
   "source": [
    "**Diseñadores** ➡️ Compañías de diseño\n",
    "\n",
    "**Empleados con hijos** ➡️ Guardería\n",
    "\n",
    "**Desarrolladores** ➡️ Empresas de tecnología de éxito\n",
    "\n",
    "**Ejecutivos** ➡️ Establecimiento de Starbucks\n",
    "\n",
    "**Contables** ➡️ Aeropuerto\n",
    "\n",
    "**Consenso** ➡️ Empresas < 10 años\n",
    "\n",
    "**Empleados jóvenes** ➡️ Sitios de fiesta\n",
    "\n",
    "**CEO** ➡️ Restaurantes veganos\n"
   ]
  },
  {
   "cell_type": "markdown",
   "execution_count": null,
   "metadata": {},
   "outputs": [],
   "source": [
    "### Elección de prioridades"
   ]
  },
  {
   "cell_type": "markdown",
   "execution_count": null,
   "metadata": {},
   "outputs": [],
   "source": [
    "**Modelo aleatorio para narrativa**"
   ]
  },
  {
   "cell_type": "code",
   "execution_count": 64,
   "metadata": {},
   "outputs": [
    {
     "data": {
      "text/plain": "[(1, 'Ejecutivos'), (2, 'Diseñadores'), (3, 'Empleados con hijos')]"
     },
     "execution_count": 64,
     "metadata": {},
     "output_type": "execute_result"
    }
   ],
   "source": [
    "necesidades = [\"Diseñadores\",\"Empleados con hijos\",\"Desarrolladores\",\"Ejecutivos\",\"Contables\",\"Empleados jóvenes\",\"Todos\",\"CEO\"]\n",
    "\n",
    "random_priorities = list(random.sample(range(1,len(necesidades)+1),len(necesidades)))\n",
    "\n",
    "prioridades = sorted(list(map(lambda x: (random_priorities[necesidades.index(x)],x),necesidades)))[:3]\n",
    "\n",
    "prioridades\n"
   ]
  },
  {
   "cell_type": "markdown",
   "execution_count": null,
   "metadata": {},
   "outputs": [],
   "source": [
    "### Preparación de triangulación mundial"
   ]
  },
  {
   "cell_type": "markdown",
   "execution_count": null,
   "metadata": {},
   "outputs": [],
   "source": [
    "**Se procede a ubicar a aquellas empresas relacionadas con el diseño y aquellas tecnológicas con un volumen de negocio superior a los 10 millones de dólares**"
   ]
  },
  {
   "cell_type": "markdown",
   "execution_count": null,
   "metadata": {},
   "outputs": [],
   "source": [
    "**Importación de Dataset de Compañías a nivel mundial**"
   ]
  },
  {
   "cell_type": "code",
   "execution_count": 33,
   "metadata": {},
   "outputs": [
    {
     "data": {
      "text/plain": "Database(MongoClient(host=['localhost:27017'], document_class=dict, tz_aware=False, connect=True), 'AnalysisPlaces')"
     },
     "execution_count": 33,
     "metadata": {},
     "output_type": "execute_result"
    }
   ],
   "source": [
    "from pymongo import MongoClient\n",
    "client = MongoClient(\"mongodb://localhost/AnalysisPlaces\")\n",
    "\n",
    "db = client.get_database()\n",
    "\n",
    "db"
   ]
  },
  {
   "cell_type": "markdown",
   "execution_count": null,
   "metadata": {},
   "outputs": [],
   "source": [
    "**Corrección de coordenadas para GeoJson para aquellas compañías que siguen en activo**"
   ]
  },
  {
   "cell_type": "code",
   "execution_count": 34,
   "metadata": {},
   "outputs": [
    {
     "data": {
      "text/html": "<div>\n<style scoped>\n    .dataframe tbody tr th:only-of-type {\n        vertical-align: middle;\n    }\n\n    .dataframe tbody tr th {\n        vertical-align: top;\n    }\n\n    .dataframe thead th {\n        text-align: right;\n    }\n</style>\n<table border=\"1\" class=\"dataframe\">\n  <thead>\n    <tr style=\"text-align: right;\">\n      <th></th>\n      <th>name</th>\n      <th>category_code</th>\n      <th>founded_year</th>\n      <th>total_money_raised</th>\n      <th>description</th>\n      <th>address1</th>\n      <th>address2</th>\n      <th>zip_code</th>\n      <th>city</th>\n      <th>state_code</th>\n      <th>country_code</th>\n      <th>location</th>\n    </tr>\n  </thead>\n  <tbody>\n    <tr>\n      <th>0</th>\n      <td>Geni</td>\n      <td>web</td>\n      <td>2006</td>\n      <td>$16.5M</td>\n      <td>Headquarters</td>\n      <td>9229 W. Sunset Blvd.</td>\n      <td></td>\n      <td>90069</td>\n      <td>West Hollywood</td>\n      <td>CA</td>\n      <td>USA</td>\n      <td>{'type': 'Point', 'coordinates': [34.090368, -...</td>\n    </tr>\n    <tr>\n      <th>1</th>\n      <td>Digg</td>\n      <td>news</td>\n      <td>2004</td>\n      <td>$45M</td>\n      <td>None</td>\n      <td>135 Mississippi St</td>\n      <td></td>\n      <td>94107</td>\n      <td>San Francisco</td>\n      <td>CA</td>\n      <td>USA</td>\n      <td>{'type': 'Point', 'coordinates': [37.764726, -...</td>\n    </tr>\n    <tr>\n      <th>2</th>\n      <td>Gizmoz</td>\n      <td>web</td>\n      <td>2003</td>\n      <td>$18.1M</td>\n      <td>None</td>\n      <td>None</td>\n      <td>None</td>\n      <td>None</td>\n      <td>Menlo Park</td>\n      <td>CA</td>\n      <td>USA</td>\n      <td>{'type': 'Point', 'coordinates': [37.48413, -1...</td>\n    </tr>\n  </tbody>\n</table>\n</div>",
      "text/plain": "     name category_code  founded_year total_money_raised   description  \\\n0    Geni           web          2006             $16.5M  Headquarters   \n1    Digg          news          2004               $45M          None   \n2  Gizmoz           web          2003             $18.1M          None   \n\n               address1 address2 zip_code            city state_code  \\\n0  9229 W. Sunset Blvd.             90069  West Hollywood         CA   \n1    135 Mississippi St             94107   San Francisco         CA   \n2                  None     None     None      Menlo Park         CA   \n\n  country_code                                           location  \n0          USA  {'type': 'Point', 'coordinates': [34.090368, -...  \n1          USA  {'type': 'Point', 'coordinates': [37.764726, -...  \n2          USA  {'type': 'Point', 'coordinates': [37.48413, -1...  "
     },
     "execution_count": 34,
     "metadata": {},
     "output_type": "execute_result"
    }
   ],
   "source": [
    "\n",
    "officesCoord = cleaning(db[\"companiesOriginal\"])\n",
    "\n",
    "# officesCoord.to_json(\"Outputs/companiesCoord.json\", orient=\"records\")\n",
    "\n",
    "officesCoord.head(3)\n"
   ]
  },
  {
   "cell_type": "markdown",
   "execution_count": null,
   "metadata": {},
   "outputs": [],
   "source": [
    "**Creación de DataFrame con aquellas compañías que posean una localización válida**"
   ]
  },
  {
   "cell_type": "code",
   "execution_count": 35,
   "metadata": {},
   "outputs": [
    {
     "data": {
      "text/html": "<div>\n<style scoped>\n    .dataframe tbody tr th:only-of-type {\n        vertical-align: middle;\n    }\n\n    .dataframe tbody tr th {\n        vertical-align: top;\n    }\n\n    .dataframe thead th {\n        text-align: right;\n    }\n</style>\n<table border=\"1\" class=\"dataframe\">\n  <thead>\n    <tr style=\"text-align: right;\">\n      <th></th>\n      <th>name</th>\n      <th>category_code</th>\n      <th>founded_year</th>\n      <th>total_money_raised</th>\n      <th>location</th>\n    </tr>\n  </thead>\n  <tbody>\n    <tr>\n      <th>0</th>\n      <td>Helio</td>\n      <td>mobile</td>\n      <td>2005</td>\n      <td>$0</td>\n      <td>{'type': 'Point', 'coordinates': [34.057498, -...</td>\n    </tr>\n    <tr>\n      <th>1</th>\n      <td>Geni</td>\n      <td>web</td>\n      <td>2006</td>\n      <td>$16.5M</td>\n      <td>{'type': 'Point', 'coordinates': [34.090368, -...</td>\n    </tr>\n    <tr>\n      <th>2</th>\n      <td>StumbleUpon</td>\n      <td>web</td>\n      <td>2002</td>\n      <td>$18.5M</td>\n      <td>{'type': 'Point', 'coordinates': [37.775196, -...</td>\n    </tr>\n  </tbody>\n</table>\n</div>",
      "text/plain": "          name category_code  founded_year total_money_raised  \\\n0        Helio        mobile          2005                 $0   \n1         Geni           web          2006             $16.5M   \n2  StumbleUpon           web          2002             $18.5M   \n\n                                            location  \n0  {'type': 'Point', 'coordinates': [34.057498, -...  \n1  {'type': 'Point', 'coordinates': [34.090368, -...  \n2  {'type': 'Point', 'coordinates': [37.775196, -...  "
     },
     "execution_count": 35,
     "metadata": {},
     "output_type": "execute_result"
    }
   ],
   "source": [
    "filter = {\"$and\":[{\"location\":{\"$not\":{\"$size\":0}}},{\"location\":{\"$ne\":None}},{\"location\":{\"$exists\":True}}]}\n",
    "project={\"name\":1,\"offices\":1,\"category_code\":1, \"founded_year\":1, \"total_money_raised\":1, \"location\":1,\"_id\":0}\n",
    "\n",
    "test = pd.DataFrame(list(db['companiesCoord'].find(filter=filter,projection=project)))\n",
    "\n",
    "test.head(3)"
   ]
  },
  {
   "cell_type": "markdown",
   "execution_count": null,
   "metadata": {},
   "outputs": [],
   "source": [
    "**Creación de columna de coordenadas principales en Dataframe anterior**"
   ]
  },
  {
   "cell_type": "code",
   "execution_count": 36,
   "metadata": {},
   "outputs": [
    {
     "data": {
      "text/html": "<div>\n<style scoped>\n    .dataframe tbody tr th:only-of-type {\n        vertical-align: middle;\n    }\n\n    .dataframe tbody tr th {\n        vertical-align: top;\n    }\n\n    .dataframe thead th {\n        text-align: right;\n    }\n</style>\n<table border=\"1\" class=\"dataframe\">\n  <thead>\n    <tr style=\"text-align: right;\">\n      <th></th>\n      <th>type</th>\n      <th>coordinates</th>\n    </tr>\n  </thead>\n  <tbody>\n    <tr>\n      <th>0</th>\n      <td>Point</td>\n      <td>[34.057498, -118.446596]</td>\n    </tr>\n    <tr>\n      <th>1</th>\n      <td>Point</td>\n      <td>[34.090368, -118.393064]</td>\n    </tr>\n    <tr>\n      <th>2</th>\n      <td>Point</td>\n      <td>[37.775196, -122.419204]</td>\n    </tr>\n  </tbody>\n</table>\n</div>",
      "text/plain": "    type               coordinates\n0  Point  [34.057498, -118.446596]\n1  Point  [34.090368, -118.393064]\n2  Point  [37.775196, -122.419204]"
     },
     "execution_count": 36,
     "metadata": {},
     "output_type": "execute_result"
    }
   ],
   "source": [
    "dfCoords = test[[\"location\"]].apply(lambda r: r.location, result_type=\"expand\", axis=1)\n",
    "\n",
    "dfCoords.head(3)"
   ]
  },
  {
   "cell_type": "code",
   "execution_count": 37,
   "metadata": {},
   "outputs": [
    {
     "data": {
      "text/html": "<div>\n<style scoped>\n    .dataframe tbody tr th:only-of-type {\n        vertical-align: middle;\n    }\n\n    .dataframe tbody tr th {\n        vertical-align: top;\n    }\n\n    .dataframe thead th {\n        text-align: right;\n    }\n</style>\n<table border=\"1\" class=\"dataframe\">\n  <thead>\n    <tr style=\"text-align: right;\">\n      <th></th>\n      <th>name</th>\n      <th>category_code</th>\n      <th>founded_year</th>\n      <th>total_money_raised</th>\n      <th>long</th>\n      <th>lat</th>\n      <th>location</th>\n    </tr>\n  </thead>\n  <tbody>\n    <tr>\n      <th>0</th>\n      <td>Helio</td>\n      <td>mobile</td>\n      <td>2005</td>\n      <td>$0</td>\n      <td>34.057498</td>\n      <td>-118.446596</td>\n      <td>{'type': 'Point', 'coordinates': [34.057498, -...</td>\n    </tr>\n    <tr>\n      <th>1</th>\n      <td>Geni</td>\n      <td>web</td>\n      <td>2006</td>\n      <td>$16.5M</td>\n      <td>34.090368</td>\n      <td>-118.393064</td>\n      <td>{'type': 'Point', 'coordinates': [34.090368, -...</td>\n    </tr>\n    <tr>\n      <th>2</th>\n      <td>StumbleUpon</td>\n      <td>web</td>\n      <td>2002</td>\n      <td>$18.5M</td>\n      <td>37.775196</td>\n      <td>-122.419204</td>\n      <td>{'type': 'Point', 'coordinates': [37.775196, -...</td>\n    </tr>\n  </tbody>\n</table>\n</div>",
      "text/plain": "          name category_code  founded_year total_money_raised       long  \\\n0        Helio        mobile          2005                 $0  34.057498   \n1         Geni           web          2006             $16.5M  34.090368   \n2  StumbleUpon           web          2002             $18.5M  37.775196   \n\n          lat                                           location  \n0 -118.446596  {'type': 'Point', 'coordinates': [34.057498, -...  \n1 -118.393064  {'type': 'Point', 'coordinates': [34.090368, -...  \n2 -122.419204  {'type': 'Point', 'coordinates': [37.775196, -...  "
     },
     "execution_count": 37,
     "metadata": {},
     "output_type": "execute_result"
    }
   ],
   "source": [
    "test[\"long\"] = dfCoords[\"coordinates\"].apply(lambda x: x[0])\n",
    "test[\"lat\"] = dfCoords[\"coordinates\"].apply(lambda x: x[1])\n",
    "\n",
    "test = test[['name', 'category_code', 'founded_year', 'total_money_raised', 'long', 'lat', 'location']] \n",
    "\n",
    "test.head(3)"
   ]
  },
  {
   "cell_type": "markdown",
   "execution_count": null,
   "metadata": {},
   "outputs": [],
   "source": [
    "**Búsqueda de empresas de diseño**"
   ]
  },
  {
   "cell_type": "code",
   "execution_count": 38,
   "metadata": {},
   "outputs": [
    {
     "data": {
      "text/plain": "['advertising',\n 'analytics',\n 'automotive',\n 'biotech',\n 'cleantech',\n 'consulting',\n 'design',\n 'ecommerce',\n 'education',\n 'enterprise',\n 'fashion',\n 'finance',\n 'games_video',\n 'hardware',\n 'health',\n 'hospitality',\n 'legal',\n 'local',\n 'manufacturing',\n 'medical',\n 'messaging',\n 'mobile',\n 'music',\n 'nanotech',\n 'network_hosting',\n 'news',\n 'nonprofit',\n 'other',\n 'photo_video',\n 'public_relations',\n 'real_estate',\n 'search',\n 'security',\n 'semiconductor',\n 'social',\n 'software',\n 'sports',\n 'transportation',\n 'travel',\n 'web']"
     },
     "execution_count": 38,
     "metadata": {},
     "output_type": "execute_result"
    }
   ],
   "source": [
    "Listado_Categorias = test.groupby('category_code').count().reset_index()\n",
    "\n",
    "Listado_Categorias[\"category_code\"].to_list()"
   ]
  },
  {
   "cell_type": "code",
   "execution_count": 39,
   "metadata": {},
   "outputs": [
    {
     "data": {
      "text/html": "<div>\n<style scoped>\n    .dataframe tbody tr th:only-of-type {\n        vertical-align: middle;\n    }\n\n    .dataframe tbody tr th {\n        vertical-align: top;\n    }\n\n    .dataframe thead th {\n        text-align: right;\n    }\n</style>\n<table border=\"1\" class=\"dataframe\">\n  <thead>\n    <tr style=\"text-align: right;\">\n      <th></th>\n      <th>name</th>\n      <th>category_code</th>\n      <th>founded_year</th>\n      <th>total_money_raised</th>\n      <th>long</th>\n      <th>lat</th>\n      <th>location</th>\n    </tr>\n  </thead>\n  <tbody>\n    <tr>\n      <th>1</th>\n      <td>Geni</td>\n      <td>web</td>\n      <td>2006</td>\n      <td>$16.5M</td>\n      <td>34.090368</td>\n      <td>-118.393064</td>\n      <td>{'type': 'Point', 'coordinates': [34.090368, -...</td>\n    </tr>\n    <tr>\n      <th>2</th>\n      <td>StumbleUpon</td>\n      <td>web</td>\n      <td>2002</td>\n      <td>$18.5M</td>\n      <td>37.775196</td>\n      <td>-122.419204</td>\n      <td>{'type': 'Point', 'coordinates': [37.775196, -...</td>\n    </tr>\n    <tr>\n      <th>6</th>\n      <td>Fox Interactive Media</td>\n      <td>web</td>\n      <td>1979</td>\n      <td>$0</td>\n      <td>34.076179</td>\n      <td>-118.394170</td>\n      <td>{'type': 'Point', 'coordinates': [34.076179, -...</td>\n    </tr>\n  </tbody>\n</table>\n</div>",
      "text/plain": "                    name category_code  founded_year total_money_raised  \\\n1                   Geni           web          2006             $16.5M   \n2            StumbleUpon           web          2002             $18.5M   \n6  Fox Interactive Media           web          1979                 $0   \n\n        long         lat                                           location  \n1  34.090368 -118.393064  {'type': 'Point', 'coordinates': [34.090368, -...  \n2  37.775196 -122.419204  {'type': 'Point', 'coordinates': [37.775196, -...  \n6  34.076179 -118.394170  {'type': 'Point', 'coordinates': [34.076179, -...  "
     },
     "execution_count": 39,
     "metadata": {},
     "output_type": "execute_result"
    }
   ],
   "source": [
    "designCompanies = test.copy()\n",
    "\n",
    "designCompanies[\"category_code\"] = designCompanies[\"category_code\"].apply(cleaning_design)\n",
    "\n",
    "designCompanies = designCompanies.dropna()\n",
    "\n",
    "designCompanies.head(3)\n",
    "\n"
   ]
  },
  {
   "cell_type": "markdown",
   "execution_count": null,
   "metadata": {},
   "outputs": [],
   "source": [
    "**Búsqueda de empresas de tecnología de éxito (Más de 10 millones de dólares)**"
   ]
  },
  {
   "cell_type": "code",
   "execution_count": 40,
   "metadata": {},
   "outputs": [
    {
     "data": {
      "text/html": "<div>\n<style scoped>\n    .dataframe tbody tr th:only-of-type {\n        vertical-align: middle;\n    }\n\n    .dataframe tbody tr th {\n        vertical-align: top;\n    }\n\n    .dataframe thead th {\n        text-align: right;\n    }\n</style>\n<table border=\"1\" class=\"dataframe\">\n  <thead>\n    <tr style=\"text-align: right;\">\n      <th></th>\n      <th>name</th>\n      <th>category_code</th>\n      <th>founded_year</th>\n      <th>total_money_raised</th>\n      <th>long</th>\n      <th>lat</th>\n      <th>location</th>\n    </tr>\n  </thead>\n  <tbody>\n    <tr>\n      <th>24</th>\n      <td>Jingle Networks</td>\n      <td>mobile</td>\n      <td>2005</td>\n      <td>88.7</td>\n      <td>37.480999</td>\n      <td>-122.173887</td>\n      <td>{'type': 'Point', 'coordinates': [37.480999, -...</td>\n    </tr>\n    <tr>\n      <th>37</th>\n      <td>Jajah</td>\n      <td>mobile</td>\n      <td>2005</td>\n      <td>33.0</td>\n      <td>37.423390</td>\n      <td>-122.089951</td>\n      <td>{'type': 'Point', 'coordinates': [37.4233896, ...</td>\n    </tr>\n    <tr>\n      <th>45</th>\n      <td>Skype</td>\n      <td>software</td>\n      <td>2003</td>\n      <td>76.8</td>\n      <td>51.518132</td>\n      <td>-0.131916</td>\n      <td>{'type': 'Point', 'coordinates': [51.518132, -...</td>\n    </tr>\n  </tbody>\n</table>\n</div>",
      "text/plain": "               name category_code  founded_year  total_money_raised  \\\n24  Jingle Networks        mobile          2005                88.7   \n37            Jajah        mobile          2005                33.0   \n45            Skype      software          2003                76.8   \n\n         long         lat                                           location  \n24  37.480999 -122.173887  {'type': 'Point', 'coordinates': [37.480999, -...  \n37  37.423390 -122.089951  {'type': 'Point', 'coordinates': [37.4233896, ...  \n45  51.518132   -0.131916  {'type': 'Point', 'coordinates': [51.518132, -...  "
     },
     "execution_count": 40,
     "metadata": {},
     "output_type": "execute_result"
    }
   ],
   "source": [
    "techCompanies = test.copy()\n",
    "\n",
    "techCompanies[\"total_money_raised\"] = techCompanies[\"total_money_raised\"].apply(cleaning_money)\n",
    "\n",
    "techCompanies[\"category_code\"] = techCompanies[\"category_code\"].apply(cleaning_tech)\n",
    "\n",
    "techCompanies = techCompanies.dropna().loc[techCompanies['total_money_raised'] > 10]\n",
    "\n",
    "techCompanies.head(3)"
   ]
  },
  {
   "cell_type": "markdown",
   "execution_count": null,
   "metadata": {},
   "outputs": [],
   "source": [
    "### Preparación Starbucks"
   ]
  },
  {
   "cell_type": "markdown",
   "execution_count": null,
   "metadata": {},
   "outputs": [],
   "source": [
    "**Importación de Dataset con todos los establecimientos de Starbucks a nivel mundial**"
   ]
  },
  {
   "cell_type": "code",
   "execution_count": 41,
   "metadata": {},
   "outputs": [
    {
     "data": {
      "text/html": "<div>\n<style scoped>\n    .dataframe tbody tr th:only-of-type {\n        vertical-align: middle;\n    }\n\n    .dataframe tbody tr th {\n        vertical-align: top;\n    }\n\n    .dataframe thead th {\n        text-align: right;\n    }\n</style>\n<table border=\"1\" class=\"dataframe\">\n  <thead>\n    <tr style=\"text-align: right;\">\n      <th></th>\n      <th>Brand</th>\n      <th>Store Number</th>\n      <th>Store Name</th>\n      <th>Ownership Type</th>\n      <th>Street Address</th>\n      <th>City</th>\n      <th>State/Province</th>\n      <th>Country</th>\n      <th>Postcode</th>\n      <th>Phone Number</th>\n      <th>Timezone</th>\n      <th>Longitude</th>\n      <th>Latitude</th>\n    </tr>\n  </thead>\n  <tbody>\n    <tr>\n      <th>0</th>\n      <td>Starbucks</td>\n      <td>47370-257954</td>\n      <td>Meritxell, 96</td>\n      <td>Licensed</td>\n      <td>Av. Meritxell, 96</td>\n      <td>Andorra la Vella</td>\n      <td>7</td>\n      <td>AD</td>\n      <td>AD500</td>\n      <td>376818720</td>\n      <td>GMT+1:00 Europe/Andorra</td>\n      <td>1.53</td>\n      <td>42.51</td>\n    </tr>\n    <tr>\n      <th>1</th>\n      <td>Starbucks</td>\n      <td>22331-212325</td>\n      <td>Ajman Drive Thru</td>\n      <td>Licensed</td>\n      <td>1 Street 69, Al Jarf</td>\n      <td>Ajman</td>\n      <td>AJ</td>\n      <td>AE</td>\n      <td>NaN</td>\n      <td>NaN</td>\n      <td>GMT+04:00 Asia/Dubai</td>\n      <td>55.47</td>\n      <td>25.42</td>\n    </tr>\n    <tr>\n      <th>2</th>\n      <td>Starbucks</td>\n      <td>47089-256771</td>\n      <td>Dana Mall</td>\n      <td>Licensed</td>\n      <td>Sheikh Khalifa Bin Zayed St.</td>\n      <td>Ajman</td>\n      <td>AJ</td>\n      <td>AE</td>\n      <td>NaN</td>\n      <td>NaN</td>\n      <td>GMT+04:00 Asia/Dubai</td>\n      <td>55.47</td>\n      <td>25.39</td>\n    </tr>\n  </tbody>\n</table>\n</div>",
      "text/plain": "       Brand  Store Number        Store Name Ownership Type  \\\n0  Starbucks  47370-257954     Meritxell, 96       Licensed   \n1  Starbucks  22331-212325  Ajman Drive Thru       Licensed   \n2  Starbucks  47089-256771         Dana Mall       Licensed   \n\n                 Street Address              City State/Province Country  \\\n0             Av. Meritxell, 96  Andorra la Vella              7      AD   \n1          1 Street 69, Al Jarf             Ajman             AJ      AE   \n2  Sheikh Khalifa Bin Zayed St.             Ajman             AJ      AE   \n\n  Postcode Phone Number                 Timezone  Longitude  Latitude  \n0    AD500    376818720  GMT+1:00 Europe/Andorra       1.53     42.51  \n1      NaN          NaN     GMT+04:00 Asia/Dubai      55.47     25.42  \n2      NaN          NaN     GMT+04:00 Asia/Dubai      55.47     25.39  "
     },
     "execution_count": 41,
     "metadata": {},
     "output_type": "execute_result"
    }
   ],
   "source": [
    "starbucksLocation = pd.read_csv(\"Inputs/Starbucks_Locations.csv\")\n",
    "\n",
    "starbucksLocation.head(3)"
   ]
  },
  {
   "cell_type": "markdown",
   "execution_count": null,
   "metadata": {},
   "outputs": [],
   "source": [
    "**Preparación de coordenadas y localización GeoJson de los locales de Starbucks**"
   ]
  },
  {
   "cell_type": "code",
   "execution_count": 42,
   "metadata": {},
   "outputs": [
    {
     "data": {
      "text/html": "<div>\n<style scoped>\n    .dataframe tbody tr th:only-of-type {\n        vertical-align: middle;\n    }\n\n    .dataframe tbody tr th {\n        vertical-align: top;\n    }\n\n    .dataframe thead th {\n        text-align: right;\n    }\n</style>\n<table border=\"1\" class=\"dataframe\">\n  <thead>\n    <tr style=\"text-align: right;\">\n      <th></th>\n      <th>Store Name</th>\n      <th>City</th>\n      <th>lat</th>\n      <th>long</th>\n      <th>location</th>\n    </tr>\n  </thead>\n  <tbody>\n    <tr>\n      <th>0</th>\n      <td>Meritxell, 96</td>\n      <td>Andorra la Vella</td>\n      <td>42.51</td>\n      <td>1.53</td>\n      <td>{'type': 'Point', 'coordinates': [1.53, 42.51]}</td>\n    </tr>\n    <tr>\n      <th>1</th>\n      <td>Ajman Drive Thru</td>\n      <td>Ajman</td>\n      <td>25.42</td>\n      <td>55.47</td>\n      <td>{'type': 'Point', 'coordinates': [55.47, 25.42]}</td>\n    </tr>\n    <tr>\n      <th>2</th>\n      <td>Dana Mall</td>\n      <td>Ajman</td>\n      <td>25.39</td>\n      <td>55.47</td>\n      <td>{'type': 'Point', 'coordinates': [55.47, 25.39]}</td>\n    </tr>\n  </tbody>\n</table>\n</div>",
      "text/plain": "         Store Name              City    lat   long  \\\n0     Meritxell, 96  Andorra la Vella  42.51   1.53   \n1  Ajman Drive Thru             Ajman  25.42  55.47   \n2         Dana Mall             Ajman  25.39  55.47   \n\n                                           location  \n0   {'type': 'Point', 'coordinates': [1.53, 42.51]}  \n1  {'type': 'Point', 'coordinates': [55.47, 25.42]}  \n2  {'type': 'Point', 'coordinates': [55.47, 25.39]}  "
     },
     "execution_count": 42,
     "metadata": {},
     "output_type": "execute_result"
    }
   ],
   "source": [
    "starbucksLocation = starbucksLocation[[\"Store Name\", \"City\", \"Latitude\", \"Longitude\"]].rename(columns={\"Latitude\":\"lat\",\"Longitude\":\"long\"})\n",
    "\n",
    "starbucksCoords = geojsonize(starbucksLocation)\n",
    "\n",
    "starbucksCoords.head(3)"
   ]
  },
  {
   "cell_type": "markdown",
   "execution_count": null,
   "metadata": {},
   "outputs": [],
   "source": [
    "**Limpieza de fila errónea**"
   ]
  },
  {
   "cell_type": "code",
   "execution_count": 43,
   "metadata": {},
   "outputs": [],
   "source": [
    "starbucksCoords.drop(index=[8028],inplace=True)"
   ]
  },
  {
   "cell_type": "markdown",
   "execution_count": null,
   "metadata": {},
   "outputs": [],
   "source": [
    "### Preparación Aeropuertos "
   ]
  },
  {
   "cell_type": "markdown",
   "execution_count": null,
   "metadata": {},
   "outputs": [],
   "source": [
    "**Llamamiento de API con información de aeropuertos a nivel mundial**"
   ]
  },
  {
   "cell_type": "code",
   "execution_count": 44,
   "metadata": {},
   "outputs": [
    {
     "data": {
      "text/html": "<div>\n<style scoped>\n    .dataframe tbody tr th:only-of-type {\n        vertical-align: middle;\n    }\n\n    .dataframe tbody tr th {\n        vertical-align: top;\n    }\n\n    .dataframe thead th {\n        text-align: right;\n    }\n</style>\n<table border=\"1\" class=\"dataframe\">\n  <thead>\n    <tr style=\"text-align: right;\">\n      <th></th>\n      <th>nombre</th>\n      <th>long</th>\n      <th>lat</th>\n    </tr>\n  </thead>\n  <tbody>\n    <tr>\n      <th>0</th>\n      <td>Aleknagik / New Airport</td>\n      <td>-158.617996</td>\n      <td>59.282600</td>\n    </tr>\n    <tr>\n      <th>1</th>\n      <td>Honiara International Airport</td>\n      <td>160.054993</td>\n      <td>-9.428000</td>\n    </tr>\n    <tr>\n      <th>2</th>\n      <td>Munda Airport</td>\n      <td>157.263000</td>\n      <td>-8.327970</td>\n    </tr>\n    <tr>\n      <th>3</th>\n      <td>Mar de Cortés International Airport</td>\n      <td>-113.305864</td>\n      <td>31.351621</td>\n    </tr>\n    <tr>\n      <th>4</th>\n      <td>Nauru International Airport</td>\n      <td>166.919006</td>\n      <td>-0.547458</td>\n    </tr>\n  </tbody>\n</table>\n</div>",
      "text/plain": "                                nombre        long        lat\n0              Aleknagik / New Airport -158.617996  59.282600\n1        Honiara International Airport  160.054993  -9.428000\n2                        Munda Airport  157.263000  -8.327970\n3  Mar de Cortés International Airport -113.305864  31.351621\n4          Nauru International Airport  166.919006  -0.547458"
     },
     "execution_count": 44,
     "metadata": {},
     "output_type": "execute_result"
    }
   ],
   "source": [
    "airportsCoord = airportsDF()\n",
    "\n",
    "airportsCoord.head()"
   ]
  },
  {
   "cell_type": "markdown",
   "execution_count": null,
   "metadata": {},
   "outputs": [],
   "source": [
    "**Nueva columna con coordenadas en formato GeoJson**"
   ]
  },
  {
   "cell_type": "code",
   "execution_count": 45,
   "metadata": {},
   "outputs": [
    {
     "data": {
      "text/html": "<div>\n<style scoped>\n    .dataframe tbody tr th:only-of-type {\n        vertical-align: middle;\n    }\n\n    .dataframe tbody tr th {\n        vertical-align: top;\n    }\n\n    .dataframe thead th {\n        text-align: right;\n    }\n</style>\n<table border=\"1\" class=\"dataframe\">\n  <thead>\n    <tr style=\"text-align: right;\">\n      <th></th>\n      <th>nombre</th>\n      <th>long</th>\n      <th>lat</th>\n      <th>location</th>\n    </tr>\n  </thead>\n  <tbody>\n    <tr>\n      <th>0</th>\n      <td>Aleknagik / New Airport</td>\n      <td>-158.617996</td>\n      <td>59.28260</td>\n      <td>{'type': 'Point', 'coordinates': [-158.6179962...</td>\n    </tr>\n    <tr>\n      <th>1</th>\n      <td>Honiara International Airport</td>\n      <td>160.054993</td>\n      <td>-9.42800</td>\n      <td>{'type': 'Point', 'coordinates': [160.05499267...</td>\n    </tr>\n    <tr>\n      <th>2</th>\n      <td>Munda Airport</td>\n      <td>157.263000</td>\n      <td>-8.32797</td>\n      <td>{'type': 'Point', 'coordinates': [157.26300048...</td>\n    </tr>\n  </tbody>\n</table>\n</div>",
      "text/plain": "                          nombre        long       lat  \\\n0        Aleknagik / New Airport -158.617996  59.28260   \n1  Honiara International Airport  160.054993  -9.42800   \n2                  Munda Airport  157.263000  -8.32797   \n\n                                            location  \n0  {'type': 'Point', 'coordinates': [-158.6179962...  \n1  {'type': 'Point', 'coordinates': [160.05499267...  \n2  {'type': 'Point', 'coordinates': [157.26300048...  "
     },
     "execution_count": 45,
     "metadata": {},
     "output_type": "execute_result"
    }
   ],
   "source": [
    "airportsMap = geojsonize(airportsCoord)\n",
    "\n",
    "airportsMap.head(3)"
   ]
  },
  {
   "cell_type": "markdown",
   "execution_count": null,
   "metadata": {},
   "outputs": [],
   "source": [
    "### Preparación Guarderías"
   ]
  },
  {
   "cell_type": "markdown",
   "execution_count": null,
   "metadata": {},
   "outputs": [],
   "source": [
    "**Comprobación de funcionamiento de API de Foursquare**"
   ]
  },
  {
   "cell_type": "code",
   "execution_count": 46,
   "metadata": {},
   "outputs": [],
   "source": [
    "#IT WORKS!!\n",
    "\n",
    "# init_four(lat, long)"
   ]
  },
  {
   "cell_type": "markdown",
   "execution_count": null,
   "metadata": {},
   "outputs": [],
   "source": [
    "## Ubicación de mejores coordenadas"
   ]
  },
  {
   "cell_type": "markdown",
   "execution_count": null,
   "metadata": {},
   "outputs": [],
   "source": [
    "**Centralización de Empresas en tres ubicaciones principales**"
   ]
  },
  {
   "cell_type": "markdown",
   "execution_count": null,
   "metadata": {},
   "outputs": [],
   "source": [
    "**Concatenación y distancia geográfica entre Empresas de Diseño y Empresas tecnológicas de éxito**"
   ]
  },
  {
   "cell_type": "code",
   "execution_count": 47,
   "metadata": {},
   "outputs": [
    {
     "data": {
      "text/html": "<div>\n<style scoped>\n    .dataframe tbody tr th:only-of-type {\n        vertical-align: middle;\n    }\n\n    .dataframe tbody tr th {\n        vertical-align: top;\n    }\n\n    .dataframe thead th {\n        text-align: right;\n    }\n</style>\n<table border=\"1\" class=\"dataframe\">\n  <thead>\n    <tr style=\"text-align: right;\">\n      <th></th>\n      <th>lat</th>\n      <th>long</th>\n      <th>Distance</th>\n      <th>location</th>\n    </tr>\n  </thead>\n  <tbody>\n    <tr>\n      <th>0</th>\n      <td>-122.402028</td>\n      <td>37.789129</td>\n      <td>0.258873</td>\n      <td>{'type': 'Point', 'coordinates': [37.7891288, ...</td>\n    </tr>\n    <tr>\n      <th>1</th>\n      <td>-122.397830</td>\n      <td>37.787126</td>\n      <td>0.469389</td>\n      <td>{'type': 'Point', 'coordinates': [37.787126, -...</td>\n    </tr>\n    <tr>\n      <th>2</th>\n      <td>-122.404107</td>\n      <td>37.787131</td>\n      <td>0.476385</td>\n      <td>{'type': 'Point', 'coordinates': [37.7871306, ...</td>\n    </tr>\n    <tr>\n      <th>3</th>\n      <td>-122.394354</td>\n      <td>37.782809</td>\n      <td>0.491888</td>\n      <td>{'type': 'Point', 'coordinates': [37.782809, -...</td>\n    </tr>\n    <tr>\n      <th>4</th>\n      <td>-73.978695</td>\n      <td>40.752113</td>\n      <td>0.778368</td>\n      <td>{'type': 'Point', 'coordinates': [40.7521126, ...</td>\n    </tr>\n    <tr>\n      <th>5</th>\n      <td>-73.993158</td>\n      <td>40.739834</td>\n      <td>1.016196</td>\n      <td>{'type': 'Point', 'coordinates': [40.7398335, ...</td>\n    </tr>\n    <tr>\n      <th>6</th>\n      <td>-122.419204</td>\n      <td>37.775196</td>\n      <td>1.209420</td>\n      <td>{'type': 'Point', 'coordinates': [37.775196, -...</td>\n    </tr>\n    <tr>\n      <th>7</th>\n      <td>-73.980305</td>\n      <td>40.751478</td>\n      <td>1.309565</td>\n      <td>{'type': 'Point', 'coordinates': [40.751478, -...</td>\n    </tr>\n    <tr>\n      <th>8</th>\n      <td>-122.257331</td>\n      <td>37.535876</td>\n      <td>1.393645</td>\n      <td>{'type': 'Point', 'coordinates': [37.535876, -...</td>\n    </tr>\n    <tr>\n      <th>9</th>\n      <td>-73.970624</td>\n      <td>40.761582</td>\n      <td>1.460472</td>\n      <td>{'type': 'Point', 'coordinates': [40.7615818, ...</td>\n    </tr>\n  </tbody>\n</table>\n</div>",
      "text/plain": "          lat       long  Distance  \\\n0 -122.402028  37.789129  0.258873   \n1 -122.397830  37.787126  0.469389   \n2 -122.404107  37.787131  0.476385   \n3 -122.394354  37.782809  0.491888   \n4  -73.978695  40.752113  0.778368   \n5  -73.993158  40.739834  1.016196   \n6 -122.419204  37.775196  1.209420   \n7  -73.980305  40.751478  1.309565   \n8 -122.257331  37.535876  1.393645   \n9  -73.970624  40.761582  1.460472   \n\n                                            location  \n0  {'type': 'Point', 'coordinates': [37.7891288, ...  \n1  {'type': 'Point', 'coordinates': [37.787126, -...  \n2  {'type': 'Point', 'coordinates': [37.7871306, ...  \n3  {'type': 'Point', 'coordinates': [37.782809, -...  \n4  {'type': 'Point', 'coordinates': [40.7521126, ...  \n5  {'type': 'Point', 'coordinates': [40.7398335, ...  \n6  {'type': 'Point', 'coordinates': [37.775196, -...  \n7  {'type': 'Point', 'coordinates': [40.751478, -...  \n8  {'type': 'Point', 'coordinates': [37.535876, -...  \n9  {'type': 'Point', 'coordinates': [40.7615818, ...  "
     },
     "execution_count": 47,
     "metadata": {},
     "output_type": "execute_result"
    }
   ],
   "source": [
    "EmpresasDiseño = designCompanies.reset_index(drop=True)\n",
    "\n",
    "EmpresasDiseño = EmpresasDiseño.rename(columns={\"lat\": \"latd\", \"long\": \"longd\", 'location':'locationd'})\n",
    "\n",
    "EmpresasTechExito = techCompanies.reset_index(drop=True)\n",
    "\n",
    "\n",
    "result = pd.concat([EmpresasTechExito,EmpresasDiseño], axis=1, sort=False)\n",
    "\n",
    "result['Distance'] = result.apply(lambda x: distCalc(x['lat'], x['long'], x['latd'], x['longd']), axis=1)\n",
    "\n",
    "result = result.sort_values(by='Distance', ascending=True).iloc[:10].reset_index(drop=True)\n",
    "\n",
    "result[['lat', 'long', 'Distance', 'location']]"
   ]
  },
  {
   "cell_type": "markdown",
   "execution_count": null,
   "metadata": {},
   "outputs": [],
   "source": [
    "**Reverse Geocoding!! Se procede a detallar las coordenadas de aquellas empresas más próximas entre sí**"
   ]
  },
  {
   "cell_type": "code",
   "execution_count": 48,
   "metadata": {},
   "outputs": [
    {
     "data": {
      "text/html": "<div>\n<style scoped>\n    .dataframe tbody tr th:only-of-type {\n        vertical-align: middle;\n    }\n\n    .dataframe tbody tr th {\n        vertical-align: top;\n    }\n\n    .dataframe thead th {\n        text-align: right;\n    }\n</style>\n<table border=\"1\" class=\"dataframe\">\n  <thead>\n    <tr style=\"text-align: right;\">\n      <th></th>\n      <th>lat</th>\n      <th>long</th>\n      <th>Distance</th>\n      <th>location</th>\n      <th>reGeo</th>\n    </tr>\n  </thead>\n  <tbody>\n    <tr>\n      <th>0</th>\n      <td>-122.402028</td>\n      <td>37.789129</td>\n      <td>0.258873</td>\n      <td>{'type': 'Point', 'coordinates': [37.7891288, ...</td>\n      <td>San Francisco</td>\n    </tr>\n    <tr>\n      <th>1</th>\n      <td>-122.397830</td>\n      <td>37.787126</td>\n      <td>0.469389</td>\n      <td>{'type': 'Point', 'coordinates': [37.787126, -...</td>\n      <td>San Francisco</td>\n    </tr>\n    <tr>\n      <th>2</th>\n      <td>-122.404107</td>\n      <td>37.787131</td>\n      <td>0.476385</td>\n      <td>{'type': 'Point', 'coordinates': [37.7871306, ...</td>\n      <td>San Francisco</td>\n    </tr>\n    <tr>\n      <th>3</th>\n      <td>-122.394354</td>\n      <td>37.782809</td>\n      <td>0.491888</td>\n      <td>{'type': 'Point', 'coordinates': [37.782809, -...</td>\n      <td>San Francisco</td>\n    </tr>\n    <tr>\n      <th>4</th>\n      <td>-73.978695</td>\n      <td>40.752113</td>\n      <td>0.778368</td>\n      <td>{'type': 'Point', 'coordinates': [40.7521126, ...</td>\n      <td>New York</td>\n    </tr>\n    <tr>\n      <th>5</th>\n      <td>-73.993158</td>\n      <td>40.739834</td>\n      <td>1.016196</td>\n      <td>{'type': 'Point', 'coordinates': [40.7398335, ...</td>\n      <td>New York</td>\n    </tr>\n    <tr>\n      <th>6</th>\n      <td>-122.419204</td>\n      <td>37.775196</td>\n      <td>1.209420</td>\n      <td>{'type': 'Point', 'coordinates': [37.775196, -...</td>\n      <td>San Francisco</td>\n    </tr>\n    <tr>\n      <th>7</th>\n      <td>-73.980305</td>\n      <td>40.751478</td>\n      <td>1.309565</td>\n      <td>{'type': 'Point', 'coordinates': [40.751478, -...</td>\n      <td>New York</td>\n    </tr>\n    <tr>\n      <th>8</th>\n      <td>-122.257331</td>\n      <td>37.535876</td>\n      <td>1.393645</td>\n      <td>{'type': 'Point', 'coordinates': [37.535876, -...</td>\n      <td>Redwood City</td>\n    </tr>\n    <tr>\n      <th>9</th>\n      <td>-73.970624</td>\n      <td>40.761582</td>\n      <td>1.460472</td>\n      <td>{'type': 'Point', 'coordinates': [40.7615818, ...</td>\n      <td>New York</td>\n    </tr>\n  </tbody>\n</table>\n</div>",
      "text/plain": "          lat       long  Distance  \\\n0 -122.402028  37.789129  0.258873   \n1 -122.397830  37.787126  0.469389   \n2 -122.404107  37.787131  0.476385   \n3 -122.394354  37.782809  0.491888   \n4  -73.978695  40.752113  0.778368   \n5  -73.993158  40.739834  1.016196   \n6 -122.419204  37.775196  1.209420   \n7  -73.980305  40.751478  1.309565   \n8 -122.257331  37.535876  1.393645   \n9  -73.970624  40.761582  1.460472   \n\n                                            location          reGeo  \n0  {'type': 'Point', 'coordinates': [37.7891288, ...  San Francisco  \n1  {'type': 'Point', 'coordinates': [37.787126, -...  San Francisco  \n2  {'type': 'Point', 'coordinates': [37.7871306, ...  San Francisco  \n3  {'type': 'Point', 'coordinates': [37.782809, -...  San Francisco  \n4  {'type': 'Point', 'coordinates': [40.7521126, ...       New York  \n5  {'type': 'Point', 'coordinates': [40.7398335, ...       New York  \n6  {'type': 'Point', 'coordinates': [37.775196, -...  San Francisco  \n7  {'type': 'Point', 'coordinates': [40.751478, -...       New York  \n8  {'type': 'Point', 'coordinates': [37.535876, -...   Redwood City  \n9  {'type': 'Point', 'coordinates': [40.7615818, ...       New York  "
     },
     "execution_count": 48,
     "metadata": {},
     "output_type": "execute_result"
    }
   ],
   "source": [
    "result['reGeo'] = result.apply(lambda x: reverseGeocoding(x['long'], x['lat']), axis=1)\n",
    "\n",
    "result = result[['lat', 'long', 'Distance', 'location', 'reGeo']]\n",
    "\n",
    "result"
   ]
  },
  {
   "cell_type": "markdown",
   "execution_count": null,
   "metadata": {},
   "outputs": [],
   "source": [
    "**Obtención de tres ubicaciones con la menor distancia entre las Empresas de Diseño y las Empresas tecnológicas de éxito**"
   ]
  },
  {
   "cell_type": "code",
   "execution_count": 49,
   "metadata": {},
   "outputs": [
    {
     "data": {
      "text/html": "<div>\n<style scoped>\n    .dataframe tbody tr th:only-of-type {\n        vertical-align: middle;\n    }\n\n    .dataframe tbody tr th {\n        vertical-align: top;\n    }\n\n    .dataframe thead th {\n        text-align: right;\n    }\n</style>\n<table border=\"1\" class=\"dataframe\">\n  <thead>\n    <tr style=\"text-align: right;\">\n      <th></th>\n      <th>reGeo</th>\n      <th>lat</th>\n      <th>long</th>\n      <th>Distance</th>\n    </tr>\n  </thead>\n  <tbody>\n    <tr>\n      <th>0</th>\n      <td>San Francisco</td>\n      <td>-122.419204</td>\n      <td>37.775196</td>\n      <td>0.258873</td>\n    </tr>\n    <tr>\n      <th>1</th>\n      <td>New York</td>\n      <td>-73.993158</td>\n      <td>40.739834</td>\n      <td>0.778368</td>\n    </tr>\n    <tr>\n      <th>2</th>\n      <td>Redwood City</td>\n      <td>-122.257331</td>\n      <td>37.535876</td>\n      <td>1.393645</td>\n    </tr>\n  </tbody>\n</table>\n</div>",
      "text/plain": "           reGeo         lat       long  Distance\n0  San Francisco -122.419204  37.775196  0.258873\n1       New York  -73.993158  40.739834  0.778368\n2   Redwood City -122.257331  37.535876  1.393645"
     },
     "execution_count": 49,
     "metadata": {},
     "output_type": "execute_result"
    }
   ],
   "source": [
    "result =result.groupby('reGeo').min().sort_values(by='Distance', ascending=True).reset_index()\n",
    "result\n"
   ]
  },
  {
   "cell_type": "markdown",
   "execution_count": null,
   "metadata": {},
   "outputs": [],
   "source": [
    "**Se procede a la homogeneización del resultado final con el resto de dataframes**"
   ]
  },
  {
   "cell_type": "code",
   "execution_count": 50,
   "metadata": {},
   "outputs": [
    {
     "data": {
      "text/html": "<div>\n<style scoped>\n    .dataframe tbody tr th:only-of-type {\n        vertical-align: middle;\n    }\n\n    .dataframe tbody tr th {\n        vertical-align: top;\n    }\n\n    .dataframe thead th {\n        text-align: right;\n    }\n</style>\n<table border=\"1\" class=\"dataframe\">\n  <thead>\n    <tr style=\"text-align: right;\">\n      <th></th>\n      <th>nombre</th>\n      <th>long</th>\n      <th>lat</th>\n      <th>location</th>\n      <th>Distance</th>\n    </tr>\n  </thead>\n  <tbody>\n    <tr>\n      <th>1</th>\n      <td>New York</td>\n      <td>-73.993158</td>\n      <td>40.739834</td>\n      <td>{'type': 'Point', 'coordinates': [-73.9931582,...</td>\n      <td>0.778368</td>\n    </tr>\n  </tbody>\n</table>\n</div>",
      "text/plain": "     nombre       long        lat  \\\n1  New York -73.993158  40.739834   \n\n                                            location  Distance  \n1  {'type': 'Point', 'coordinates': [-73.9931582,...  0.778368  "
     },
     "execution_count": 50,
     "metadata": {},
     "output_type": "execute_result"
    }
   ],
   "source": [
    "main = result.iloc[1:2]\n",
    "\n",
    "main = main.rename(columns={\"reGeo\": \"nombre\",\"long\":\"lat\",\"lat\":\"long\"})\n",
    "\n",
    "main = geojsonize(main)\n",
    "\n",
    "main = main[[\"nombre\",\"long\",\"lat\",\"location\",\"Distance\"]]\n",
    "\n",
    "main"
   ]
  },
  {
   "cell_type": "markdown",
   "execution_count": null,
   "metadata": {},
   "outputs": [],
   "source": [
    "**El factor Starbucks**"
   ]
  },
  {
   "cell_type": "markdown",
   "execution_count": null,
   "metadata": {},
   "outputs": [],
   "source": [
    "**Se procede a buscar los Starbucks más cercanos a las mejores coordenadas entre empresas del apartado anterior**"
   ]
  },
  {
   "cell_type": "code",
   "execution_count": 51,
   "metadata": {},
   "outputs": [
    {
     "data": {
      "text/html": "<div>\n<style scoped>\n    .dataframe tbody tr th:only-of-type {\n        vertical-align: middle;\n    }\n\n    .dataframe tbody tr th {\n        vertical-align: top;\n    }\n\n    .dataframe thead th {\n        text-align: right;\n    }\n</style>\n<table border=\"1\" class=\"dataframe\">\n  <thead>\n    <tr style=\"text-align: right;\">\n      <th></th>\n      <th>Store Name</th>\n      <th>City</th>\n      <th>lat</th>\n      <th>long</th>\n      <th>location</th>\n    </tr>\n  </thead>\n  <tbody>\n    <tr>\n      <th>0</th>\n      <td>Safeway - Alameda 3281</td>\n      <td>Alameda</td>\n      <td>37.79</td>\n      <td>-122.28</td>\n      <td>{'type': 'Point', 'coordinates': [-122.28, 37....</td>\n    </tr>\n    <tr>\n      <th>1</th>\n      <td>Park &amp; Central Alameda</td>\n      <td>Alameda</td>\n      <td>37.76</td>\n      <td>-122.24</td>\n      <td>{'type': 'Point', 'coordinates': [-122.24, 37....</td>\n    </tr>\n    <tr>\n      <th>2</th>\n      <td>Webster &amp; Atlantic - Alameda</td>\n      <td>Alameda</td>\n      <td>37.78</td>\n      <td>-122.28</td>\n      <td>{'type': 'Point', 'coordinates': [-122.28, 37....</td>\n    </tr>\n    <tr>\n      <th>3</th>\n      <td>Safeway - Alameda #2708</td>\n      <td>Alameda</td>\n      <td>37.76</td>\n      <td>-122.25</td>\n      <td>{'type': 'Point', 'coordinates': [-122.25, 37....</td>\n    </tr>\n    <tr>\n      <th>4</th>\n      <td>Tilden &amp; Blanding</td>\n      <td>Alameda</td>\n      <td>37.77</td>\n      <td>-122.23</td>\n      <td>{'type': 'Point', 'coordinates': [-122.23, 37....</td>\n    </tr>\n  </tbody>\n</table>\n</div>",
      "text/plain": "                     Store Name     City    lat    long  \\\n0        Safeway - Alameda 3281  Alameda  37.79 -122.28   \n1        Park & Central Alameda  Alameda  37.76 -122.24   \n2  Webster & Atlantic - Alameda  Alameda  37.78 -122.28   \n3       Safeway - Alameda #2708  Alameda  37.76 -122.25   \n4             Tilden & Blanding  Alameda  37.77 -122.23   \n\n                                            location  \n0  {'type': 'Point', 'coordinates': [-122.28, 37....  \n1  {'type': 'Point', 'coordinates': [-122.24, 37....  \n2  {'type': 'Point', 'coordinates': [-122.28, 37....  \n3  {'type': 'Point', 'coordinates': [-122.25, 37....  \n4  {'type': 'Point', 'coordinates': [-122.23, 37....  "
     },
     "execution_count": 51,
     "metadata": {},
     "output_type": "execute_result"
    }
   ],
   "source": [
    "Starbucks = starbucksCoords.copy()\n",
    "\n",
    "Starbucks['reGeo'] = Starbucks.apply(lambda x: fixCoords(x['long'], x['lat']), axis=1).dropna()\n",
    "\n",
    "Starbucks = Starbucks.dropna().reset_index(drop=True)\n",
    "\n",
    "Starbucks = Starbucks[['Store Name','City','lat', 'long','location']]\n",
    "\n",
    "Starbucks.head()\n"
   ]
  },
  {
   "cell_type": "markdown",
   "execution_count": null,
   "metadata": {},
   "outputs": [],
   "source": [
    "**Se localiza el local de Starbucks más cercano según la información de apartados anteriores**"
   ]
  },
  {
   "cell_type": "code",
   "execution_count": 52,
   "metadata": {},
   "outputs": [
    {
     "data": {
      "text/html": "<div>\n<style scoped>\n    .dataframe tbody tr th:only-of-type {\n        vertical-align: middle;\n    }\n\n    .dataframe tbody tr th {\n        vertical-align: top;\n    }\n\n    .dataframe thead th {\n        text-align: right;\n    }\n</style>\n<table border=\"1\" class=\"dataframe\">\n  <thead>\n    <tr style=\"text-align: right;\">\n      <th></th>\n      <th>Store Name</th>\n      <th>City</th>\n      <th>lat</th>\n      <th>long</th>\n      <th>location</th>\n      <th>DistanceStarbucks</th>\n    </tr>\n  </thead>\n  <tbody>\n    <tr>\n      <th>676</th>\n      <td>Union Square East</td>\n      <td>New York</td>\n      <td>40.74</td>\n      <td>-73.99</td>\n      <td>{'type': 'Point', 'coordinates': [-73.99, 40.74]}</td>\n      <td>0.266806</td>\n    </tr>\n  </tbody>\n</table>\n</div>",
      "text/plain": "            Store Name      City    lat   long  \\\n676  Union Square East  New York  40.74 -73.99   \n\n                                              location  DistanceStarbucks  \n676  {'type': 'Point', 'coordinates': [-73.99, 40.74]}           0.266806  "
     },
     "execution_count": 52,
     "metadata": {},
     "output_type": "execute_result"
    }
   ],
   "source": [
    "# latDef = result[\"lat\"].to_list()\n",
    "\n",
    "# longDef = result[\"long\"].to_list()\n",
    "\n",
    "# coordsDef = list(zip(longDef,latDef))\n",
    "\n",
    "Starbucks[\"DistanceStarbucks\"] = Starbucks.apply(lambda x: compareCoords(x['long'], x['lat']), axis=1)\n",
    "\n",
    "Starbucks = Starbucks.sort_values(by='DistanceStarbucks', ascending=True).iloc[:1]\n",
    "\n",
    "Starbucks\n"
   ]
  },
  {
   "cell_type": "markdown",
   "execution_count": null,
   "metadata": {},
   "outputs": [],
   "source": [
    "**Se procede a la homogeneización del resultado final con el resto de dataframes**"
   ]
  },
  {
   "cell_type": "code",
   "execution_count": 53,
   "metadata": {},
   "outputs": [
    {
     "data": {
      "text/html": "<div>\n<style scoped>\n    .dataframe tbody tr th:only-of-type {\n        vertical-align: middle;\n    }\n\n    .dataframe tbody tr th {\n        vertical-align: top;\n    }\n\n    .dataframe thead th {\n        text-align: right;\n    }\n</style>\n<table border=\"1\" class=\"dataframe\">\n  <thead>\n    <tr style=\"text-align: right;\">\n      <th></th>\n      <th>nombre</th>\n      <th>long</th>\n      <th>lat</th>\n      <th>location</th>\n      <th>Distance</th>\n    </tr>\n  </thead>\n  <tbody>\n    <tr>\n      <th>676</th>\n      <td>Union Square East</td>\n      <td>-73.99</td>\n      <td>40.74</td>\n      <td>{'type': 'Point', 'coordinates': [-73.99, 40.74]}</td>\n      <td>0.266806</td>\n    </tr>\n  </tbody>\n</table>\n</div>",
      "text/plain": "                nombre   long    lat  \\\n676  Union Square East -73.99  40.74   \n\n                                              location  Distance  \n676  {'type': 'Point', 'coordinates': [-73.99, 40.74]}  0.266806  "
     },
     "execution_count": 53,
     "metadata": {},
     "output_type": "execute_result"
    }
   ],
   "source": [
    "\n",
    "Starbucks = Starbucks.rename(columns={\"Store Name\": \"nombre\", \"DistanceStarbucks\": \"Distance\"})\n",
    "\n",
    "Starbucks = Starbucks[[\"nombre\",\"long\",\"lat\",\"location\",\"Distance\"]]\n",
    "\n",
    "Starbucks"
   ]
  },
  {
   "cell_type": "markdown",
   "execution_count": null,
   "metadata": {},
   "outputs": [],
   "source": [
    "**Una vez obtenida una coordenada que posee una Empresa tecnológica de éxito, una Empresa de diseño y un Starbucks a menos de 500 metros en la Ciudad de Nueva York, se procede a ubicar el aeropuerto más cercano a dicha coordenada**"
   ]
  },
  {
   "cell_type": "code",
   "execution_count": 54,
   "metadata": {},
   "outputs": [
    {
     "data": {
      "text/html": "<div>\n<style scoped>\n    .dataframe tbody tr th:only-of-type {\n        vertical-align: middle;\n    }\n\n    .dataframe tbody tr th {\n        vertical-align: top;\n    }\n\n    .dataframe thead th {\n        text-align: right;\n    }\n</style>\n<table border=\"1\" class=\"dataframe\">\n  <thead>\n    <tr style=\"text-align: right;\">\n      <th></th>\n      <th>nombre</th>\n      <th>long</th>\n      <th>lat</th>\n      <th>location</th>\n    </tr>\n  </thead>\n  <tbody>\n    <tr>\n      <th>0</th>\n      <td>Aleknagik / New Airport</td>\n      <td>-158.617996</td>\n      <td>59.282600</td>\n      <td>{'type': 'Point', 'coordinates': [-158.6179962...</td>\n    </tr>\n    <tr>\n      <th>1</th>\n      <td>Honiara International Airport</td>\n      <td>160.054993</td>\n      <td>-9.428000</td>\n      <td>{'type': 'Point', 'coordinates': [160.05499267...</td>\n    </tr>\n    <tr>\n      <th>2</th>\n      <td>Munda Airport</td>\n      <td>157.263000</td>\n      <td>-8.327970</td>\n      <td>{'type': 'Point', 'coordinates': [157.26300048...</td>\n    </tr>\n    <tr>\n      <th>3</th>\n      <td>Mar de Cortés International Airport</td>\n      <td>-113.305864</td>\n      <td>31.351621</td>\n      <td>{'type': 'Point', 'coordinates': [-113.305864,...</td>\n    </tr>\n    <tr>\n      <th>4</th>\n      <td>Nauru International Airport</td>\n      <td>166.919006</td>\n      <td>-0.547458</td>\n      <td>{'type': 'Point', 'coordinates': [166.919006, ...</td>\n    </tr>\n  </tbody>\n</table>\n</div>",
      "text/plain": "                                nombre        long        lat  \\\n0              Aleknagik / New Airport -158.617996  59.282600   \n1        Honiara International Airport  160.054993  -9.428000   \n2                        Munda Airport  157.263000  -8.327970   \n3  Mar de Cortés International Airport -113.305864  31.351621   \n4          Nauru International Airport  166.919006  -0.547458   \n\n                                            location  \n0  {'type': 'Point', 'coordinates': [-158.6179962...  \n1  {'type': 'Point', 'coordinates': [160.05499267...  \n2  {'type': 'Point', 'coordinates': [157.26300048...  \n3  {'type': 'Point', 'coordinates': [-113.305864,...  \n4  {'type': 'Point', 'coordinates': [166.919006, ...  "
     },
     "execution_count": 54,
     "metadata": {},
     "output_type": "execute_result"
    }
   ],
   "source": [
    "Airports = airportsMap\n",
    "\n",
    "Airports.head()\n"
   ]
  },
  {
   "cell_type": "markdown",
   "execution_count": null,
   "metadata": {},
   "outputs": [],
   "source": [
    "**Se localiza el aeropuerto más próximo a la coordenada principal**"
   ]
  },
  {
   "cell_type": "code",
   "execution_count": 55,
   "metadata": {},
   "outputs": [
    {
     "data": {
      "text/html": "<div>\n<style scoped>\n    .dataframe tbody tr th:only-of-type {\n        vertical-align: middle;\n    }\n\n    .dataframe tbody tr th {\n        vertical-align: top;\n    }\n\n    .dataframe thead th {\n        text-align: right;\n    }\n</style>\n<table border=\"1\" class=\"dataframe\">\n  <thead>\n    <tr style=\"text-align: right;\">\n      <th></th>\n      <th>nombre</th>\n      <th>long</th>\n      <th>lat</th>\n      <th>location</th>\n      <th>Distance</th>\n    </tr>\n  </thead>\n  <tbody>\n    <tr>\n      <th>0</th>\n      <td>La Guardia Airport</td>\n      <td>-73.872597</td>\n      <td>40.777199</td>\n      <td>{'type': 'Point', 'coordinates': [-73.87259674...</td>\n      <td>13.459249</td>\n    </tr>\n  </tbody>\n</table>\n</div>",
      "text/plain": "               nombre       long        lat  \\\n0  La Guardia Airport -73.872597  40.777199   \n\n                                            location   Distance  \n0  {'type': 'Point', 'coordinates': [-73.87259674...  13.459249  "
     },
     "execution_count": 55,
     "metadata": {},
     "output_type": "execute_result"
    }
   ],
   "source": [
    "Airports[\"Distance\"] = Airports.apply(lambda x: distCalc(x['long'], x['lat'], -73.993158, 40.739834), axis=1)\n",
    "\n",
    "Airports = Airports.sort_values(by='Distance', ascending=True).iloc[:10].reset_index(drop=True)\n",
    "\n",
    "Airports = Airports.iloc[0:1]\n",
    "\n",
    "Airports\n",
    "\n",
    "\t\n"
   ]
  },
  {
   "cell_type": "markdown",
   "execution_count": null,
   "metadata": {},
   "outputs": [],
   "source": [
    "### El Factor Guardería"
   ]
  },
  {
   "cell_type": "markdown",
   "execution_count": null,
   "metadata": {},
   "outputs": [],
   "source": [
    "**A través de la API de Foursquare, se busca la guardería más cercana a la coordenada principal en la ciudad de Nueva York**"
   ]
  },
  {
   "cell_type": "code",
   "execution_count": 56,
   "metadata": {},
   "outputs": [
    {
     "name": "stdout",
     "output_type": "stream",
     "text": "https://api.foursquare.com/v2/venues/search?ll=40.739834,-73.993158&client_id=CF3DB20G304YY24ALQODEUIHOHLKLPIE2CWPGM1Z5ZFCRNJQ&client_secret=XA1BQCYJ4QN2ZLGID4FFQSOERYJKRFNAIV25G44Z4NC1H2Z5&v=20200204&categoryId=4f4532974b9074f6e4fb0104\n200\n"
    }
   ],
   "source": [
    "guarderias = init_four(40.739834, -73.993158)"
   ]
  },
  {
   "cell_type": "markdown",
   "execution_count": null,
   "metadata": {},
   "outputs": [],
   "source": [
    "**Se localiza la guardería más cercana a la coordenada en un radio inferior a 500 metros**"
   ]
  },
  {
   "cell_type": "code",
   "execution_count": 57,
   "metadata": {},
   "outputs": [
    {
     "data": {
      "text/html": "<div>\n<style scoped>\n    .dataframe tbody tr th:only-of-type {\n        vertical-align: middle;\n    }\n\n    .dataframe tbody tr th {\n        vertical-align: top;\n    }\n\n    .dataframe thead th {\n        text-align: right;\n    }\n</style>\n<table border=\"1\" class=\"dataframe\">\n  <thead>\n    <tr style=\"text-align: right;\">\n      <th></th>\n      <th>nombre</th>\n      <th>long</th>\n      <th>lat</th>\n      <th>location</th>\n      <th>Distance</th>\n    </tr>\n  </thead>\n  <tbody>\n    <tr>\n      <th>0</th>\n      <td>Apple Seeds</td>\n      <td>-73.989614</td>\n      <td>40.743248</td>\n      <td>{'type': 'Point', 'coordinates': [-73.98961352...</td>\n      <td>0.483</td>\n    </tr>\n  </tbody>\n</table>\n</div>",
      "text/plain": "        nombre       long        lat  \\\n0  Apple Seeds -73.989614  40.743248   \n\n                                            location  Distance  \n0  {'type': 'Point', 'coordinates': [-73.98961352...     0.483  "
     },
     "execution_count": 57,
     "metadata": {},
     "output_type": "execute_result"
    }
   ],
   "source": [
    "guarderiasTot = iteration(guarderias)\n",
    "\n",
    "guarder = pd.DataFrame(guarderiasTot)\n",
    "\n",
    "guarder = guarder.rename(columns={0:\"nombre\",1:\"long\",2:\"lat\",3:\"Distance\"})\n",
    "\n",
    "guarder = guarder.sort_values(by='Distance', ascending=True).iloc[:10].reset_index(drop=True)\n",
    "\n",
    "guarder = guarder[0:1]\n",
    "\n",
    "guarder = geojsonize(guarder)\n",
    "\n",
    "guarder = guarder[[\"nombre\",\"long\",\"lat\",\"location\",\"Distance\"]]\n",
    "\n",
    "guarder\n",
    "\n"
   ]
  },
  {
   "cell_type": "markdown",
   "execution_count": null,
   "metadata": {},
   "outputs": [],
   "source": [
    "### Representación Gráfica"
   ]
  },
  {
   "cell_type": "markdown",
   "execution_count": null,
   "metadata": {},
   "outputs": [],
   "source": [
    "**Se concatenan todos los Dataframes resultantes en un Dataframe Final**"
   ]
  },
  {
   "cell_type": "code",
   "execution_count": 58,
   "metadata": {},
   "outputs": [
    {
     "data": {
      "text/html": "<div>\n<style scoped>\n    .dataframe tbody tr th:only-of-type {\n        vertical-align: middle;\n    }\n\n    .dataframe tbody tr th {\n        vertical-align: top;\n    }\n\n    .dataframe thead th {\n        text-align: right;\n    }\n</style>\n<table border=\"1\" class=\"dataframe\">\n  <thead>\n    <tr style=\"text-align: right;\">\n      <th></th>\n      <th>nombre</th>\n      <th>long</th>\n      <th>lat</th>\n      <th>location</th>\n      <th>Distance</th>\n    </tr>\n  </thead>\n  <tbody>\n    <tr>\n      <th>Principal</th>\n      <td>New York</td>\n      <td>-73.993158</td>\n      <td>40.739834</td>\n      <td>{'type': 'Point', 'coordinates': [-73.9931582,...</td>\n      <td>0.778368</td>\n    </tr>\n    <tr>\n      <th>Airport</th>\n      <td>La Guardia Airport</td>\n      <td>-73.872597</td>\n      <td>40.777199</td>\n      <td>{'type': 'Point', 'coordinates': [-73.87259674...</td>\n      <td>13.459249</td>\n    </tr>\n    <tr>\n      <th>Starbucks</th>\n      <td>Union Square East</td>\n      <td>-73.990000</td>\n      <td>40.740000</td>\n      <td>{'type': 'Point', 'coordinates': [-73.99, 40.74]}</td>\n      <td>0.266806</td>\n    </tr>\n    <tr>\n      <th>Guarder</th>\n      <td>Apple Seeds</td>\n      <td>-73.989614</td>\n      <td>40.743248</td>\n      <td>{'type': 'Point', 'coordinates': [-73.98961352...</td>\n      <td>0.483000</td>\n    </tr>\n  </tbody>\n</table>\n</div>",
      "text/plain": "                       nombre       long        lat  \\\nPrincipal            New York -73.993158  40.739834   \nAirport    La Guardia Airport -73.872597  40.777199   \nStarbucks   Union Square East -73.990000  40.740000   \nGuarder           Apple Seeds -73.989614  40.743248   \n\n                                                    location   Distance  \nPrincipal  {'type': 'Point', 'coordinates': [-73.9931582,...   0.778368  \nAirport    {'type': 'Point', 'coordinates': [-73.87259674...  13.459249  \nStarbucks  {'type': 'Point', 'coordinates': [-73.99, 40.74]}   0.266806  \nGuarder    {'type': 'Point', 'coordinates': [-73.98961352...   0.483000  "
     },
     "execution_count": 58,
     "metadata": {},
     "output_type": "execute_result"
    }
   ],
   "source": [
    "main\n",
    "\n",
    "Airports\n",
    "\n",
    "Starbucks\n",
    "\n",
    "guarder\n",
    "\n",
    "frames = [main,Airports,Starbucks,guarder]\n",
    "\n",
    "resultDef = pd.concat(frames)\n",
    "\n",
    "resultDef = resultDef.reset_index(drop=True)\n",
    "\n",
    "resultDef = resultDef.rename(index={0:\"Principal\", 1:\"Airport\", 2:\"Starbucks\", 3:\"Guarder\"})\n",
    "\n",
    "resultDef\n",
    "\n"
   ]
  },
  {
   "cell_type": "markdown",
   "execution_count": null,
   "metadata": {},
   "outputs": [],
   "source": [
    "**Se procede a mostrar de forma gráfica los puntos obtenidos anteriormente**"
   ]
  },
  {
   "cell_type": "code",
   "execution_count": 59,
   "metadata": {},
   "outputs": [
    {
     "data": {
      "text/html": "<iframe\n  frameborder=\"0\"\n  style=\"\n    border: 1px solid #cfcfcf;\n    width: 100%;\n    height: 632px;\n    \"\n  srcDoc=\"\n  <!DOCTYPE html>\n<html lang=&quot;en&quot;>\n<head>\n  <title>None</title>\n  <meta name=&quot;description&quot; content=&quot;None&quot;>\n  <meta name=&quot;viewport&quot; content=&quot;width=device-width, initial-scale=1.0&quot;>\n  <meta charset=&quot;UTF-8&quot;>\n  <!-- Include CARTO VL JS -->\n  <script src=&quot;https://libs.cartocdn.com/carto-vl/v1.4/carto-vl.min.js&quot;></script>\n  <!-- Include Mapbox GL JS -->\n  <script src=&quot;https://api.tiles.mapbox.com/mapbox-gl-js/v1.0.0/mapbox-gl.js&quot;></script>\n  <!-- Include Mapbox GL CSS -->\n  <link href=&quot;https://api.tiles.mapbox.com/mapbox-gl-js/v1.0.0/mapbox-gl.css&quot; rel=&quot;stylesheet&quot; />\n\n  <!-- Include Airship -->\n  <script nomodule=&quot;&quot; src=&quot;https://libs.cartocdn.com/airship-components/v2.2.0-rc.2.1/airship.js&quot;></script>\n  <script type=&quot;module&quot; src=&quot;https://libs.cartocdn.com/airship-components/v2.2.0-rc.2.1/airship/airship.esm.js&quot;></script>\n  <script src=&quot;https://libs.cartocdn.com/airship-bridge/v2.2.0-rc.2.1/asbridge.min.js&quot;></script>\n  <link href=&quot;https://libs.cartocdn.com/airship-style/v2.2.0-rc.2.1/airship.min.css&quot; rel=&quot;stylesheet&quot;>\n  <link href=&quot;https://libs.cartocdn.com/airship-icons/v2.2.0-rc.2.1/icons.css&quot; rel=&quot;stylesheet&quot;>\n\n  <link href=&quot;https://fonts.googleapis.com/css?family=Roboto&quot; rel=&quot;stylesheet&quot; type=&quot;text/css&quot;>\n\n  <!-- External libraries -->\n  \n  <!-- base64-js -->\n  <script src='https://libs.cartocdn.com/cartoframes/dependencies/base64.js'></script>\n  \n  <!-- html2canvas -->\n  \n\n  \n  <style>\n  body {\n    margin: 0;\n    padding: 0;\n  }\n\n  aside.as-sidebar {\n    min-width: 300px;\n  }\n\n  .map-image {\n    display: none;\n    max-width: 100%;\n    height: auto;\n  }\n</style>\n  <style>\n  .map {\n    position: absolute;\n    height: 100%;\n    width: 100%;\n  }\n\n  .map-info {\n    position: absolute;\n    bottom: 0;\n    padding: 0 5px;\n    background-color: rgba(255, 255, 255, 0.5);\n    margin: 0;\n    color: rgba(0, 0, 0, 0.75);\n    font-size: 12px;\n    width: auto;\n    height: 18px;\n    font-family: 'Open Sans';\n  }\n\n  .map-footer {\n    background: #F2F6F9;\n    font-family: Roboto;\n    font-size: 12px;\n    line-height: 24px;\n    color: #162945;\n    text-align: center;\n    z-index: 2;\n  }\n\n  .map-footer a {\n    text-decoration: none;\n  }\n\n  .map-footer a:hover {\n    text-decoration: underline;\n  }\n</style>\n    <style>\n    #error-container {\n      position: absolute;\n      width: 100%;\n      height: 100%;\n      background-color: white;\n      visibility: hidden;\n      padding: 1em;\n      font-family: &quot;Courier New&quot;, Courier, monospace;\n      margin: 0 auto;\n      font-size: 14px;\n      overflow: auto;\n      z-index: 1000;\n      color: black;\n    }\n\n    .error-section {\n      padding: 1em;\n      border-radius: 5px;\n      background-color: #fee;\n    }\n\n    #error-container #error-highlight {\n      font-weight: bold;\n      color: inherit;\n    }\n\n    #error-container #error-type {\n      color: #008000;\n    }\n\n    #error-container #error-name {\n      color: #ba2121;\n    }\n\n    #error-container #error-content {\n      margin-top: 0.4em;\n    }\n\n    .error-details {\n      margin-top: 1em;\n    }\n\n    #error-stacktrace {\n      list-style: none;\n    }\n</style>\n  <style>\n    .popup-content {\n      display: flex;\n      flex-direction: column;\n      padding: 8px;\n    }\n\n    .popup-name {\n      font-size: 12px;\n      font-weight: 400;\n      line-height: 20px;\n      margin-bottom: 4px;\n    }\n\n    .popup-value {\n      font-size: 16px;\n      font-weight: 600;\n      line-height: 20px;\n    }\n\n    .popup-value:not(:last-of-type) {\n      margin-bottom: 16px;\n    }\n</style>\n  <style>\n  as-widget-header .as-widget-header__header {\n    margin-bottom: 8px;\n    overflow-wrap: break-word;\n  }\n\n  as-widget-header .as-widget-header__subheader {\n    margin-bottom: 12px;\n  }\n\n  as-category-widget {\n    max-height: 250px;\n  }\n</style>\n</head>\n\n<body class=&quot;as-app-body as-app&quot;>\n  <img id=&quot;map-image&quot; class=&quot;map-image&quot; alt='Static map image' />\n  <as-responsive-content id=&quot;main-container&quot;>\n    \n    <main class=&quot;as-main&quot;>\n      <div class=&quot;as-map-area&quot;>\n        <div id=&quot;map&quot; class=&quot;map&quot;></div>\n        \n        \n      </div> <!-- as-map-area -->\n    </main> <!-- as-main -->\n  </as-responsive-content>\n\n  \n\n  <div id=&quot;error-container&quot; class=&quot;error&quot;>\n  <p>There is a <span class=&quot;errors&quot; id=&quot;error-highlight&quot;></span>\n  from the <a href=&quot;https://carto.com/developers/carto-vl/&quot; target=&quot;_blank&quot;>CARTO VL</a> library:</p>\n  <section class=&quot;error-section&quot;>\n    <span class=&quot;errors&quot; id=&quot;error-name&quot;></span>:\n    <section id=&quot;error-content&quot;>\n      <span class=&quot;errors&quot; id=&quot;error-type&quot;></span>\n      <span class=&quot;errors&quot; id=&quot;error-message&quot;></span>\n    </section>\n  </section>\n\n  <details class=&quot;error-details&quot;>\n    <summary>StackTrace</summary>\n    <ul id=&quot;error-stacktrace&quot;></ul>\n  </details>\n</div>\n</body>\n\n<script>\n  var init = (function () {\n  'use strict';\n\n  const BASEMAPS = {\n    DarkMatter: carto.basemaps.darkmatter,\n    Voyager: carto.basemaps.voyager,\n    Positron: carto.basemaps.positron\n  };\n\n  const attributionControl = new mapboxgl.AttributionControl({\n    compact: false\n  });\n\n  const FIT_BOUNDS_SETTINGS = { animate: false, padding: 50, maxZoom: 14 };\n\n  function format(value) {\n    if (Array.isArray(value)) {\n      const [first, second] = value;\n      if (first === -Infinity) {\n        return `< ${formatValue(second)}`;\n      }\n      if (second === Infinity) {\n        return `> ${formatValue(first)}`;\n      }\n      return `${formatValue(first)} - ${formatValue(second)}`;\n    }\n    return formatValue(value);\n  }\n\n  function formatValue(value) {\n    if (typeof value === 'number') {\n      return formatNumber(value);\n    }\n    return value;\n  }\n\n  function formatNumber(value) {\n    const log = Math.log10(Math.abs(value));\n\n    if ((log > 4 || log < -2.00000001) && value) {\n      return value.toExponential(2);\n    }\n    \n    if (!Number.isInteger(value)) {\n      return value.toLocaleString(undefined, {\n        minimumFractionDigits: 2,\n        maximumFractionDigits: 3\n      });\n    }\n    \n    return value.toLocaleString();\n  }\n\n  function updateViewport(map) {\n    function updateMapInfo() {\n      const mapInfo$ = document.getElementById('map-info');\n      const center = map.getCenter();\n      const lat = center.lat.toFixed(6);\n      const lng = center.lng.toFixed(6);\n      const zoom = map.getZoom().toFixed(2);\n    \n      mapInfo$.innerText = `viewport={'zoom': ${zoom}, 'lat': ${lat}, 'lng': ${lng}}`;\n    }\n\n    updateMapInfo();\n\n    map.on('zoom', updateMapInfo);\n    map.on('move', updateMapInfo); \n  }\n\n  function getBasecolorSettings(basecolor) {\n    return {\n      'version': 8,\n      'sources': {},\n      'layers': [{\n          'id': 'background',\n          'type': 'background',\n          'paint': {\n              'background-color': basecolor\n          }\n      }]\n    };\n  }\n\n  function getImageElement(mapIndex) {\n    const id = mapIndex !== undefined ? `map-image-${mapIndex}` : 'map-image';\n    return document.getElementById(id);\n  }\n\n  function getContainerElement(mapIndex) {\n    const id = mapIndex !== undefined ? `main-container-${mapIndex}` : 'main-container';\n    return document.getElementById(id);\n  }\n\n  function saveImage(mapIndex) {\n    const img = getImageElement(mapIndex);\n    const container = getContainerElement(mapIndex);\n\n    html2canvas(container)\n      .then((canvas) => setMapImage(canvas, img, container));\n  }\n\n  function setMapImage(canvas, img, container) {\n    const src = canvas.toDataURL();\n    img.setAttribute('src', src);\n    img.style.display = 'block';\n    container.style.display = 'none';\n  }\n\n  function createDefaultLegend(layers) {\n    const defaultLegendContainer = document.getElementById('default-legend-container');\n    defaultLegendContainer.style.display = 'none';\n\n    AsBridge.VL.Legends.layersLegend(\n      '#default-legend',\n      layers,\n      {\n        onLoad: () => defaultLegendContainer.style.display = 'unset'\n      }\n    );\n  }\n\n  function createLegend(layer, legendData, layerIndex, mapIndex=0) {\n    const element = document.querySelector(`#layer${layerIndex}_map${mapIndex}_legend`);\n    \n    if (legendData.length) {\n      legendData.forEach((legend, legendIndex) => _createLegend(layer, legend, layerIndex, legendIndex, mapIndex));\n    } else {\n      _createLegend(layer, legendData, layerIndex, 0, mapIndex);\n    }\n  }\n\n  function _createLegend(layer, legend, layerIndex, legendIndex, mapIndex=0) {\n    const element = document.querySelector(`#layer${layerIndex}_map${mapIndex}_legend${legendIndex}`);\n\n    if (legend.prop) {\n      const othersLabel = 'Others';   // TODO: i18n\n      const prop = legend.prop;\n      const dynamic = legend.dynamic;\n      const variable = legend.variable;\n      const config = { othersLabel, variable };\n      const options = { format, config, dynamic };\n\n      if (legend.type.startsWith('size-continuous')) {\n        config.samples = 4;\n      }\n      \n      AsBridge.VL.Legends.rampLegend(element, layer, prop, options);\n    }\n  }\n\n  /** From https://github.com/errwischt/stacktrace-parser/blob/master/src/stack-trace-parser.js */\n\n  /**\n   * This parses the different stack traces and puts them into one format\n   * This borrows heavily from TraceKit (https://github.com/csnover/TraceKit)\n   */\n\n  const UNKNOWN_FUNCTION = '<unknown>';\n  const chromeRe = /^\\s*at (.*?) ?\\(((?:file|https?|blob|chrome-extension|native|eval|webpack|<anonymous>|\\/).*?)(?::(\\d+))?(?::(\\d+))?\\)?\\s*$/i;\n  const chromeEvalRe = /\\((\\S*)(?::(\\d+))(?::(\\d+))\\)/;\n  const winjsRe = /^\\s*at (?:((?:\\[object object\\])?.+) )?\\(?((?:file|ms-appx|https?|webpack|blob):.*?):(\\d+)(?::(\\d+))?\\)?\\s*$/i;\n  const geckoRe = /^\\s*(.*?)(?:\\((.*?)\\))?(?:^|@)((?:file|https?|blob|chrome|webpack|resource|\\[native).*?|[^@]*bundle)(?::(\\d+))?(?::(\\d+))?\\s*$/i;\n  const geckoEvalRe = /(\\S+) line (\\d+)(?: > eval line \\d+)* > eval/i;\n\n  function parse(stackString) {\n    const lines = stackString.split('\\n');\n\n    return lines.reduce((stack, line) => {\n      const parseResult =\n        parseChrome(line) ||\n        parseWinjs(line) ||\n        parseGecko(line);\n\n      if (parseResult) {\n        stack.push(parseResult);\n      }\n\n      return stack;\n    }, []);\n  }\n\n  function parseChrome(line) {\n    const parts = chromeRe.exec(line);\n\n    if (!parts) {\n      return null;\n    }\n\n    const isNative = parts[2] && parts[2].indexOf('native') === 0; // start of line\n    const isEval = parts[2] && parts[2].indexOf('eval') === 0; // start of line\n\n    const submatch = chromeEvalRe.exec(parts[2]);\n    if (isEval && submatch != null) {\n      // throw out eval line/column and use top-most line/column number\n      parts[2] = submatch[1]; // url\n      parts[3] = submatch[2]; // line\n      parts[4] = submatch[3]; // column\n    }\n\n    return {\n      file: !isNative ? parts[2] : null,\n      methodName: parts[1] || UNKNOWN_FUNCTION,\n      arguments: isNative ? [parts[2]] : [],\n      lineNumber: parts[3] ? +parts[3] : null,\n      column: parts[4] ? +parts[4] : null,\n    };\n  }\n\n  function parseWinjs(line) {\n    const parts = winjsRe.exec(line);\n\n    if (!parts) {\n      return null;\n    }\n\n    return {\n      file: parts[2],\n      methodName: parts[1] || UNKNOWN_FUNCTION,\n      arguments: [],\n      lineNumber: +parts[3],\n      column: parts[4] ? +parts[4] : null,\n    };\n  }\n\n  function parseGecko(line) {\n    const parts = geckoRe.exec(line);\n\n    if (!parts) {\n      return null;\n    }\n\n    const isEval = parts[3] && parts[3].indexOf(' > eval') > -1;\n\n    const submatch = geckoEvalRe.exec(parts[3]);\n    if (isEval && submatch != null) {\n      // throw out eval line/column and use top-most line number\n      parts[3] = submatch[1];\n      parts[4] = submatch[2];\n      parts[5] = null; // no column when eval\n    }\n\n    return {\n      file: parts[3],\n      methodName: parts[1] || UNKNOWN_FUNCTION,\n      arguments: parts[2] ? parts[2].split(',') : [],\n      lineNumber: parts[4] ? +parts[4] : null,\n      column: parts[5] ? +parts[5] : null,\n    };\n  }\n\n  function displayError(e) {\n    const error$ = document.getElementById('error-container');\n    const errors$ = error$.getElementsByClassName('errors');\n    const stacktrace$ = document.getElementById('error-stacktrace');\n\n    errors$[0].innerHTML = e.name;\n    errors$[1].innerHTML = e.name;\n    errors$[2].innerHTML = e.type;\n    errors$[3].innerHTML = e.message.replace(e.type, '');\n\n    error$.style.visibility = 'visible';\n\n    const stack = parse(e.stack);\n    const list = stack.map(item => {\n      return `<li>\n      at <span class=&quot;stacktrace-method&quot;>${item.methodName}:</span>\n      (${item.file}:${item.lineNumber}:${item.column})\n    </li>`;\n    });\n\n    stacktrace$.innerHTML = list.join('\\n');\n  }\n\n  function resetPopupClick(interactivity) {\n    interactivity.off('featureClick');\n  }\n\n  function resetPopupHover(interactivity) {\n    interactivity.off('featureHover');\n  }\n\n  function setPopupsClick(map, popup, interactivity, attrs) {\n    interactivity.on('featureClick', (event) => {\n      updatePopup(map, popup, event, attrs);\n    });\n  }\n\n  function setPopupsHover(map, popup, interactivity, attrs) {\n    interactivity.on('featureHover', (event) => {\n      updatePopup(map, popup, event, attrs);\n    });\n  }\n\n  function updatePopup(map, popup, event, attrs) {\n    if (event.features.length > 0) {\n      let popupHTML = '';\n      const layerIDs = [];\n\n      for (const feature of event.features) {\n        if (layerIDs.includes(feature.layerId)) {\n          continue;\n        }\n        // Track layers to add only one feature per layer\n        layerIDs.push(feature.layerId);\n    \n        for (const item of attrs) {\n          const variable = feature.variables[item.name];\n          if (variable) {\n            let value = variable.value;\n            value = formatValue(value);\n\n            popupHTML = `\n            <span class=&quot;popup-name&quot;>${item.title}</span>\n            <span class=&quot;popup-value&quot;>${value}</span>\n          ` + popupHTML;\n          }\n        }\n      }\n\n      popup\n          .setLngLat([event.coordinates.lng, event.coordinates.lat])\n          .setHTML(`<div class=&quot;popup-content&quot;>${popupHTML}</div>`);\n\n      if (!popup.isOpen()) {\n        popup.addTo(map);\n      }\n    } else {\n      popup.remove();\n    }\n  }\n\n  function setInteractivity(map, interactiveLayers, interactiveMapLayers) {\n    const interactivity = new carto.Interactivity(interactiveMapLayers);\n    const popup = new mapboxgl.Popup({\n      closeButton: false,\n      closeOnClick: false\n    });\n\n    const { clickAttrs, hoverAttrs } = _setInteractivityAttrs(interactiveLayers);\n\n    resetPopupClick(map);\n    resetPopupHover(map);\n\n    if (clickAttrs.length > 0) {\n      setPopupsClick(map, popup, interactivity, clickAttrs);\n    }\n\n    if (hoverAttrs.length > 0) {\n      setPopupsHover(map, popup, interactivity, hoverAttrs);\n    }\n  }\n\n  function _setInteractivityAttrs(interactiveLayers) {\n    let clickAttrs = [];\n    let hoverAttrs = [];\n\n    interactiveLayers.forEach((interactiveLayer) => {\n      interactiveLayer.interactivity.forEach((interactivityDef) => {\n        if (interactivityDef.event === 'click') {\n          clickAttrs = clickAttrs.concat(interactivityDef.attrs);\n        } else if (interactivityDef.event === 'hover') {\n          hoverAttrs = hoverAttrs.concat(interactivityDef.attrs);\n        }\n      });\n    });\n\n    return { clickAttrs, hoverAttrs };\n  }\n\n  function renderWidget(widget, value) {\n    widget.element = widget.element || document.querySelector(`#${widget.id}-value`);\n\n    if (value && widget.element) {\n      widget.element.innerText = typeof value === 'number' ? format(value) : value;\n    }\n  }\n\n  function renderBridge(bridge, widget, mapLayer) {\n    widget.element = widget.element || document.querySelector(`#${widget.id}`);\n\n    switch (widget.type) {\n      case 'histogram':\n        const type = _getWidgetType(mapLayer, widget.value, widget.prop);\n        const histogram = type === 'category' ? 'categoricalHistogram' : 'numericalHistogram';\n        bridge[histogram](widget.element, widget.value, widget.options);\n\n        break;\n      case 'category':\n        bridge.category(widget.element, widget.value, widget.options);\n        break;\n      case 'animation':\n        widget.options.propertyName = widget.prop;\n        bridge.animationControls(widget.element, widget.value, widget.options);\n        break;\n      case 'time-series':\n        widget.options.propertyName = widget.prop;\n        bridge.timeSeries(widget.element, widget.value, widget.options);\n        break;\n    }\n  }\n\n  function bridgeLayerWidgets(map, mapLayer, mapSource, widgets) {\n    const bridge = new AsBridge.VL.Bridge({\n      carto: carto,\n      layer: mapLayer,\n      source: mapSource,\n      map: map\n    });\n\n    widgets\n      .filter((widget) => widget.has_bridge)\n      .forEach((widget) => renderBridge(bridge, widget, mapLayer));\n\n    bridge.build();\n  }\n\n  function _getWidgetType(layer, property, value) {\n    return layer.metadata && layer.metadata.properties[value] ?\n      layer.metadata.properties[value].type\n      : _getWidgetPropertyType(layer, property);\n  }\n\n  function _getWidgetPropertyType(layer, property) {\n    return layer.metadata && layer.metadata.properties[property] ?\n      layer.metadata.properties[property].type\n      : null;\n  }\n\n  function SourceFactory() {\n    const sourceTypes = { GeoJSON, Query, MVT };\n\n    this.createSource = (layer) => {\n      return sourceTypes[layer.type](layer);\n    };\n  }\n\n  function GeoJSON(layer) {\n    return new carto.source.GeoJSON(_decodeJSONQuery(layer.query));\n  }\n\n  function Query(layer) {\n    const auth = {\n      username: layer.credentials.username,\n      apiKey: layer.credentials.api_key || 'default_public'\n    };\n\n    const config = {\n      serverURL: layer.credentials.base_url || `https://${layer.credentials.username}.carto.com/`\n    };\n\n    return new carto.source.SQL(layer.query, auth, config);\n  }\n\n  function MVT(layer) {\n    return new carto.source.MVT(layer.query.file, JSON.parse(layer.query.metadata));\n  }\n\n  function _decodeJSONQuery(query) {\n    return JSON.parse(Base64.decode(query.replace(/b\\'/, '\\'')));\n  }\n\n  const factory = new SourceFactory();\n\n  function initMapLayer(layer, layerIndex, numLayers, hasLegends, map, mapIndex) {\n    const mapSource = factory.createSource(layer);\n    const mapViz = new carto.Viz(layer.viz);\n    const mapLayer = new carto.Layer(`layer${layerIndex}`, mapSource, mapViz);\n    const mapLayerIndex = numLayers - layerIndex - 1;\n\n    try {\n      mapLayer._updateLayer.catch(displayError);\n    } catch (e) {\n      throw e;\n    }\n\n\n    mapLayer.addTo(map);\n\n    setLayerLegend(layer, mapLayerIndex, mapLayer, mapIndex, hasLegends);\n    setLayerWidgets(map, layer, mapLayer, mapLayerIndex, mapSource);\n\n    return mapLayer;\n  }\n\n  function getInteractiveLayers(layers, mapLayers) {\n    const interactiveLayers = [];\n    const interactiveMapLayers = [];\n\n    layers.forEach((layer, index) => {\n      if (layer.interactivity) {\n        interactiveLayers.push(layer);\n        interactiveMapLayers.push(mapLayers[index]);\n      }\n    });\n\n    return { interactiveLayers, interactiveMapLayers };\n  }\n\n  function setLayerLegend(layer, mapLayerIndex, mapLayer, mapIndex, hasLegends) {\n    if (hasLegends && layer.legend) {\n      createLegend(mapLayer, layer.legend, mapLayerIndex, mapIndex);\n    }\n  }\n\n  function setLayerWidgets(map, layer, mapLayer, mapLayerIndex, mapSource) {\n    if (layer.widgets.length) {\n      initLayerWidgets(layer.widgets, mapLayerIndex);\n      updateLayerWidgets(layer.widgets, mapLayer);\n      bridgeLayerWidgets(map, mapLayer, mapSource, layer.widgets);\n    }\n  }\n\n  function initLayerWidgets(widgets, mapLayerIndex) {\n    widgets.forEach((widget, widgetIndex) => {\n      const id = `layer${mapLayerIndex}_widget${widgetIndex}`;\n      widget.id = id;\n    });\n  }\n\n  function updateLayerWidgets(widgets, mapLayer) {\n    mapLayer.on('updated', () => renderLayerWidgets(widgets, mapLayer));\n  }\n\n  function renderLayerWidgets(widgets, mapLayer) {\n    const variables = mapLayer.viz.variables;\n\n    widgets\n      .filter((widget) => !widget.has_bridge)\n      .forEach((widget) => {\n        const name = widget.variable_name;\n        const value = getWidgetValue(name, variables);\n        renderWidget(widget, value);\n      });\n  }\n\n  function getWidgetValue(name, variables) {\n    return name && variables[name] ? variables[name].value : null;\n  }\n\n  function setReady(settings) {\n    try {\n      return settings.maps ? initMaps(settings.maps) : initMap(settings);\n    } catch (e) {\n      displayError(e);\n    }\n  }\n\n  function initMaps(maps) {\n    return maps.map((mapSettings, mapIndex) => {\n      return initMap(mapSettings, mapIndex);\n    });\n  }\n\n  function initMap(settings, mapIndex) {\n    const basecolor = getBasecolorSettings(settings.basecolor);\n    const basemapStyle =  BASEMAPS[settings.basemap] || settings.basemap || basecolor;\n    const container = mapIndex !== undefined ? `map-${mapIndex}` : 'map';\n    const map = createMap(container, basemapStyle, settings.bounds, settings.mapboxtoken);\n\n    if (settings.show_info) {\n      updateViewport(map);\n    }\n\n    if (settings.camera) {\n      map.flyTo(settings.camera);\n    }\n\n    return initLayers(map, settings, mapIndex);\n  }\n\n  function initLayers(map, settings, mapIndex) {\n    const numLayers = settings.layers.length;\n    const hasLegends = settings.has_legends;\n    const isDefaultLegend = settings.default_legend;\n    const isStatic = settings.is_static;\n    const layers = settings.layers;\n    const mapLayers = getMapLayers(\n      layers,\n      numLayers,\n      hasLegends,\n      map,\n      mapIndex\n    );\n\n    createLegend$1(isDefaultLegend, mapLayers);\n    setInteractiveLayers(map, layers, mapLayers);\n\n    return waitForMapLayersLoad(isStatic, mapIndex, mapLayers);\n  }\n\n  function waitForMapLayersLoad(isStatic, mapIndex, mapLayers) {\n    return new Promise((resolve) => {\n      carto.on('loaded', mapLayers, onMapLayersLoaded.bind(\n        this, isStatic, mapIndex, mapLayers, resolve)\n      );\n    });\n  }\n\n  function onMapLayersLoaded(isStatic, mapIndex, mapLayers, resolve) {\n    if (isStatic) {\n      saveImage(mapIndex);\n    }\n\n    resolve(mapLayers);\n  }\n\n  function getMapLayers(layers, numLayers, hasLegends, map, mapIndex) {\n    return layers.map((layer, layerIndex) => {\n      return initMapLayer(layer, layerIndex, numLayers, hasLegends, map, mapIndex);\n    });\n  }\n\n  function setInteractiveLayers(map, layers, mapLayers) {\n    const { interactiveLayers, interactiveMapLayers } = getInteractiveLayers(layers, mapLayers);\n\n    if (interactiveLayers && interactiveLayers.length > 0) {\n      setInteractivity(map, interactiveLayers, interactiveMapLayers);\n    }\n  }\n\n  function createLegend$1(isDefaultLegend, mapLayers) {\n    if (isDefaultLegend) {\n      createDefaultLegend(mapLayers);\n    }\n  }\n\n  function createMap(container, basemapStyle, bounds, accessToken) {\n    const map = createMapboxGLMap(container, basemapStyle, accessToken);\n\n    map.addControl(attributionControl);\n    map.fitBounds(bounds, FIT_BOUNDS_SETTINGS);\n\n    return map;\n  }\n\n  function createMapboxGLMap(container, style, accessToken) {\n    if (accessToken) {\n      mapboxgl.accessToken = accessToken;\n    }\n\n    return new mapboxgl.Map({\n      container,\n      style,\n      zoom: 9,\n      dragRotate: false,\n      attributionControl: false\n    });\n  }\n\n  function init(settings) {\n    setReady(settings);\n  }\n\n  return init;\n\n}());\n</script>\n<script>\n  document\n  .querySelector('as-responsive-content')\n  .addEventListener('ready', () => {\n    const basecolor = '';\n    const basemap = 'Positron';\n    const bounds = [[-73.9931582, 40.7398335], [-73.87259674, 40.77719879]];\n    const camera = null;\n    const default_legend = 'False' === 'true';\n    const has_legends = 'False' === 'true';\n    const is_static = 'None' === 'true';\n    const layers = [{&quot;credentials&quot;: {&quot;api_key&quot;: &quot;default_public&quot;, &quot;base_url&quot;: &quot;&quot;, &quot;username&quot;: &quot;cartoframes&quot;}, &quot;has_legend_list&quot;: false, &quot;interactivity&quot;: [], &quot;legend&quot;: {}, &quot;query&quot;: &quot;eyJ0eXBlIjogIkZlYXR1cmVDb2xsZWN0aW9uIiwgImZlYXR1cmVzIjogW3siaWQiOiAiUHJpbmNpcGFsIiwgInR5cGUiOiAiRmVhdHVyZSIsICJwcm9wZXJ0aWVzIjogeyJEaXN0YW5jZSI6IDAuNzc4MzY4MTkwNzQwMzgxLCAibGF0IjogNDAuNzM5ODMzNSwgImxvY2F0aW9uIjogeyJ0eXBlIjogIlBvaW50IiwgImNvb3JkaW5hdGVzIjogWy03My45OTMxNTgyLCA0MC43Mzk4MzM1XX0sICJsb25nIjogLTczLjk5MzE1ODIsICJub21icmUiOiAiTmV3IFlvcmsifSwgImdlb21ldHJ5IjogeyJ0eXBlIjogIlBvaW50IiwgImNvb3JkaW5hdGVzIjogWy03My45OTMxNTgyLCA0MC43Mzk4MzM1XX19LCB7ImlkIjogIkFpcnBvcnQiLCAidHlwZSI6ICJGZWF0dXJlIiwgInByb3BlcnRpZXMiOiB7IkRpc3RhbmNlIjogMTMuNDU5MjQ5NDA1NzY4MzM0LCAibGF0IjogNDAuNzc3MTk4NzksICJsb2NhdGlvbiI6IHsidHlwZSI6ICJQb2ludCIsICJjb29yZGluYXRlcyI6IFstNzMuODcyNTk2NzQsIDQwLjc3NzE5ODc5XX0sICJsb25nIjogLTczLjg3MjU5Njc0LCAibm9tYnJlIjogIkxhIEd1YXJkaWEgQWlycG9ydCJ9LCAiZ2VvbWV0cnkiOiB7InR5cGUiOiAiUG9pbnQiLCAiY29vcmRpbmF0ZXMiOiBbLTczLjg3MjU5Njc0LCA0MC43NzcxOTg3OV19fSwgeyJpZCI6ICJTdGFyYnVja3MiLCAidHlwZSI6ICJGZWF0dXJlIiwgInByb3BlcnRpZXMiOiB7IkRpc3RhbmNlIjogMC4yNjY4MDU4OTk3NDY0NjAxLCAibGF0IjogNDAuNzQsICJsb2NhdGlvbiI6IHsidHlwZSI6ICJQb2ludCIsICJjb29yZGluYXRlcyI6IFstNzMuOTksIDQwLjc0XX0sICJsb25nIjogLTczLjk5LCAibm9tYnJlIjogIlVuaW9uIFNxdWFyZSBFYXN0In0sICJnZW9tZXRyeSI6IHsidHlwZSI6ICJQb2ludCIsICJjb29yZGluYXRlcyI6IFstNzMuOTksIDQwLjc0XX19LCB7ImlkIjogIkd1YXJkZXIiLCAidHlwZSI6ICJGZWF0dXJlIiwgInByb3BlcnRpZXMiOiB7IkRpc3RhbmNlIjogMC40ODMsICJsYXQiOiA0MC43NDMyNDgyNzc3MTgwOTUsICJsb2NhdGlvbiI6IHsidHlwZSI6ICJQb2ludCIsICJjb29yZGluYXRlcyI6IFstNzMuOTg5NjEzNTIzOTA4MTgsIDQwLjc0MzI0ODI3NzcxODA5NV19LCAibG9uZyI6IC03My45ODk2MTM1MjM5MDgxOCwgIm5vbWJyZSI6ICJBcHBsZSBTZWVkcyJ9LCAiZ2VvbWV0cnkiOiB7InR5cGUiOiAiUG9pbnQiLCAiY29vcmRpbmF0ZXMiOiBbLTczLjk4OTYxMzUyMzkwODE4LCA0MC43NDMyNDgyNzc3MTgwOTVdfX1dfQ==&quot;, &quot;type&quot;: &quot;GeoJSON&quot;, &quot;viz&quot;: &quot;color: hex(\\&quot;#EE4D5A\\&quot;)\\nwidth: ramp(linear(zoom(),0,18),[2,10])\\nstrokeWidth: ramp(linear(zoom(),0,18),[0,1])\\nstrokeColor: opacity(#222,ramp(linear(zoom(),0,18),[0,0.6]))\\n&quot;, &quot;widgets&quot;: []}];\n    const mapboxtoken = '';\n    const show_info = 'None' === 'true';\n\n    init({\n      basecolor,\n      basemap,\n      bounds,\n      camera,\n      default_legend,\n      has_legends,\n      is_static,\n      layers,\n      mapboxtoken,\n      show_info\n    });\n});\n</script>\n</html>\n\">\n\n</iframe>",
      "text/plain": "<cartoframes.viz.map.Map at 0x7f7d6b5cec50>"
     },
     "execution_count": 59,
     "metadata": {},
     "output_type": "execute_result"
    }
   ],
   "source": [
    "Map(Layer(resultDef))"
   ]
  },
  {
   "cell_type": "markdown",
   "execution_count": null,
   "metadata": {},
   "outputs": [],
   "source": [
    "**La calle elegida es \"West 22nd St.\", cerca del emblemático \"Flatiron Building\".**"
   ]
  },
  {
   "cell_type": "markdown",
   "execution_count": null,
   "metadata": {},
   "outputs": [],
   "source": [
    "### Resumen"
   ]
  },
  {
   "cell_type": "markdown",
   "execution_count": null,
   "metadata": {},
   "outputs": [],
   "source": [
    "Tras una triangulación mundial entre las empresas de diseño,las empresas tecnológicas con más de 10 millones de dólares en recaudación y los locales de Starbucks, se ha ubicado a Nueva York como el emplazamiento idóneo para las nuevas instalaciones de la compañía."
   ]
  },
  {
   "cell_type": "markdown",
   "execution_count": null,
   "metadata": {},
   "outputs": [],
   "source": [
    "Una vez ubicada la ciudad principal, se ha procedido a localizar servicios destacados como guarderías y aeropuertos desde las coordenadas principales."
   ]
  }
 ]
}